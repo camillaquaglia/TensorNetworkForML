{
 "cells": [
  {
   "cell_type": "code",
   "execution_count": 2,
   "metadata": {},
   "outputs": [],
   "source": [
    "import numpy as np\n",
    "from tqdm import tnrange\n",
    "import matplotlib.pyplot as plt\n",
    "\n",
    "import sys\n",
    "sys.path.insert(0,\"../\")\n",
    "import data_generator as gen\n",
    "import TensorNetwork as tn\n",
    "\n",
    "from torch.utils.data import DataLoader, Dataset, TensorDataset, SubsetRandomSampler"
   ]
  },
  {
   "cell_type": "code",
   "execution_count": 3,
   "metadata": {},
   "outputs": [],
   "source": [
    "class NumpyDataset(Dataset):\n",
    "    def __init__(self, data, label):\n",
    "        self.data = data\n",
    "        self.label = label\n",
    "    \n",
    "    def __len__(self):\n",
    "        return len(self.data)\n",
    "    \n",
    "    def __getitem__(self, index):\n",
    "        return (self.data[index], self.label[index])"
   ]
  },
  {
   "cell_type": "code",
   "execution_count": 4,
   "metadata": {},
   "outputs": [],
   "source": [
    "def prepare_dataset(data, label, train_perc, val_perc, train_batch_size, val_batch_size, test_batch_size):\n",
    "    \n",
    "    def psi(x):\n",
    "        x = np.array((np.sin(np.pi*x/2),np.cos(np.pi*x/2)))\n",
    "        return np.transpose(x, [1,2,0])\n",
    "\n",
    "\n",
    "    # flatten images\n",
    "    x = data.reshape(len(data),-1)\n",
    "    # embedd them\n",
    "    x = psi(x)\n",
    "    \n",
    "    # training/test splitting\n",
    "    m = int(len(x)*train_perc)\n",
    "    x_train= x[:m]\n",
    "    y_train = label[:m]\n",
    "    x_test =  x[m:]\n",
    "    y_test = label[m:]\n",
    "    \n",
    "    # define custom NumpyDatasets\n",
    "    train_set = NumpyDataset(x_train, y_train)\n",
    "    test_set =  NumpyDataset(x_test, y_test)\n",
    "   \n",
    "    train_len = int(m*(1-val_perc))\n",
    "    train_sampler = SubsetRandomSampler(np.arange(train_len))\n",
    "    val_sampler = SubsetRandomSampler(np.arange(train_len,m))\n",
    "\n",
    "    train_loader = DataLoader(train_set, train_batch_size, sampler=train_sampler, drop_last=True, collate_fn=lambda x: x)\n",
    "    val_loader = DataLoader(train_set, val_batch_size, sampler=val_sampler, drop_last=False, collate_fn=lambda x: x)\n",
    "    test_loader = DataLoader(test_set, test_batch_size, drop_last=False, collate_fn=lambda x: x)\n",
    "\n",
    "    return train_loader, val_loader, test_loader"
   ]
  },
  {
   "cell_type": "code",
   "execution_count": 9,
   "metadata": {},
   "outputs": [],
   "source": [
    "n_samples = 1000\n",
    "linear_dim = 5\n",
    "M = 20"
   ]
  },
  {
   "cell_type": "code",
   "execution_count": 10,
   "metadata": {},
   "outputs": [],
   "source": [
    "(data, label) = gen.create_dataset(n_samples, sigma=0.7)\n",
    "batch_size = {'train_batch_size':16, 'val_batch_size':128, 'test_batch_size':128}\n",
    "train_loader, val_loader, test_loader = prepare_dataset(data, label, 0.8, 0.2, **batch_size)"
   ]
  },
  {
   "cell_type": "code",
   "execution_count": 13,
   "metadata": {},
   "outputs": [],
   "source": [
    "net = tn.Network(N=linear_dim**2, M=M, L=2)"
   ]
  },
  {
   "cell_type": "code",
   "execution_count": 15,
   "metadata": {},
   "outputs": [
    {
     "data": {
      "application/vnd.jupyter.widget-view+json": {
       "model_id": "c7fde6e35802490a8708b9151283ea55",
       "version_major": 2,
       "version_minor": 0
      },
      "text/plain": [
       "HBox(children=(IntProgress(value=0, description='Epoch loop', max=1, style=ProgressStyle(description_width='in…"
      ]
     },
     "metadata": {},
     "output_type": "display_data"
    },
    {
     "name": "stdout",
     "output_type": "stream",
     "text": [
      "\r",
      "Epoch 0 - train accuracy : 0.9888 - completed : 100.00 % \r",
      "Epoch 0 - train accuracy : 0.9891 - val accuracy: 0.9875\n",
      "\n"
     ]
    }
   ],
   "source": [
    "train_acc, val_acc = net.train(train_loader, val_loader, lr = 0.5, n_epochs = 1, print_freq=1)"
   ]
  },
  {
   "cell_type": "markdown",
   "metadata": {},
   "source": [
    "# Time profiling"
   ]
  },
  {
   "cell_type": "code",
   "execution_count": 26,
   "metadata": {},
   "outputs": [],
   "source": [
    "import time"
   ]
  },
  {
   "cell_type": "markdown",
   "metadata": {},
   "source": [
    "## Scaling in the number of samples"
   ]
  },
  {
   "cell_type": "code",
   "execution_count": 25,
   "metadata": {},
   "outputs": [
    {
     "name": "stdout",
     "output_type": "stream",
     "text": [
      "Number of samples tried: \n",
      " [1000, 4000, 9000, 16000, 25000, 36000, 49000, 64000]\n"
     ]
    }
   ],
   "source": [
    "n_samples = [1000*i**2 for i in range(1,9)]\n",
    "print(\"Number of samples tried: \\n\", n_samples)\n",
    "\n",
    "# keep them fixed\n",
    "linear_dim = 5\n",
    "M = 20"
   ]
  },
  {
   "cell_type": "code",
   "execution_count": 31,
   "metadata": {
    "scrolled": true
   },
   "outputs": [
    {
     "name": "stdout",
     "output_type": "stream",
     "text": [
      "Testing with 1000 samples...\n"
     ]
    },
    {
     "data": {
      "application/vnd.jupyter.widget-view+json": {
       "model_id": "be1f62fa7a604d8093129d5a76fd946b",
       "version_major": 2,
       "version_minor": 0
      },
      "text/plain": [
       "HBox(children=(IntProgress(value=0, description='Epoch loop', max=1, style=ProgressStyle(description_width='in…"
      ]
     },
     "metadata": {},
     "output_type": "display_data"
    },
    {
     "name": "stdout",
     "output_type": "stream",
     "text": [
      "\r",
      "Epoch 0 - train accuracy : 0.9824 - completed : 100.00 % \r",
      "Epoch 0 - train accuracy : 0.9828 - val accuracy: 0.9812\n",
      "\n",
      "Time for 1 epoch: 5.59 s \n",
      "\n",
      "Testing with 4000 samples...\n"
     ]
    },
    {
     "data": {
      "application/vnd.jupyter.widget-view+json": {
       "model_id": "94eca4fdd07e40068022ea5751cc9434",
       "version_major": 2,
       "version_minor": 0
      },
      "text/plain": [
       "HBox(children=(IntProgress(value=0, description='Epoch loop', max=1, style=ProgressStyle(description_width='in…"
      ]
     },
     "metadata": {},
     "output_type": "display_data"
    },
    {
     "name": "stdout",
     "output_type": "stream",
     "text": [
      "\r",
      "Epoch 0 - train accuracy : 0.9870 - completed : 100.00 % \r",
      "Epoch 0 - train accuracy : 0.9871 - val accuracy: 0.9844\n",
      "\n",
      "Time for 1 epoch: 20.63 s \n",
      "\n",
      "Testing with 9000 samples...\n"
     ]
    },
    {
     "data": {
      "application/vnd.jupyter.widget-view+json": {
       "model_id": "bcc3f785dc1b44d59da78f7ebcfe8650",
       "version_major": 2,
       "version_minor": 0
      },
      "text/plain": [
       "HBox(children=(IntProgress(value=0, description='Epoch loop', max=1, style=ProgressStyle(description_width='in…"
      ]
     },
     "metadata": {},
     "output_type": "display_data"
    },
    {
     "name": "stdout",
     "output_type": "stream",
     "text": [
      "Epoch 0 - train accuracy : 0.9911 - val accuracy: 0.9854 \n",
      "\n",
      "Time for 1 epoch: 49.90 s \n",
      "\n",
      "Testing with 16000 samples...\n"
     ]
    },
    {
     "data": {
      "application/vnd.jupyter.widget-view+json": {
       "model_id": "9ab7bfa7b0e24d80b281d1e056621b0c",
       "version_major": 2,
       "version_minor": 0
      },
      "text/plain": [
       "HBox(children=(IntProgress(value=0, description='Epoch loop', max=1, style=ProgressStyle(description_width='in…"
      ]
     },
     "metadata": {},
     "output_type": "display_data"
    },
    {
     "name": "stdout",
     "output_type": "stream",
     "text": [
      "Epoch 0 - train accuracy : 0.9888 - val accuracy: 0.9844 \n",
      "\n",
      "Time for 1 epoch: 86.18 s \n",
      "\n",
      "Testing with 25000 samples...\n"
     ]
    },
    {
     "data": {
      "application/vnd.jupyter.widget-view+json": {
       "model_id": "bba0bc4570d94766814852921e6ed736",
       "version_major": 2,
       "version_minor": 0
      },
      "text/plain": [
       "HBox(children=(IntProgress(value=0, description='Epoch loop', max=1, style=ProgressStyle(description_width='in…"
      ]
     },
     "metadata": {},
     "output_type": "display_data"
    },
    {
     "name": "stdout",
     "output_type": "stream",
     "text": [
      "Epoch 0 - train accuracy : 0.9913 - val accuracy: 0.9810 \n",
      "\n",
      "Time for 1 epoch: 134.82 s \n",
      "\n",
      "Testing with 36000 samples...\n"
     ]
    },
    {
     "data": {
      "application/vnd.jupyter.widget-view+json": {
       "model_id": "1dab1a6409b4479eb7c26630049121d8",
       "version_major": 2,
       "version_minor": 0
      },
      "text/plain": [
       "HBox(children=(IntProgress(value=0, description='Epoch loop', max=1, style=ProgressStyle(description_width='in…"
      ]
     },
     "metadata": {},
     "output_type": "display_data"
    },
    {
     "name": "stdout",
     "output_type": "stream",
     "text": [
      "Epoch 0 - train accuracy : 0.9892 - val accuracy: 0.9877 \n",
      "\n",
      "Time for 1 epoch: 190.00 s \n",
      "\n",
      "Testing with 49000 samples...\n"
     ]
    },
    {
     "data": {
      "application/vnd.jupyter.widget-view+json": {
       "model_id": "161621be6ee54e74821a5e9a6004d784",
       "version_major": 2,
       "version_minor": 0
      },
      "text/plain": [
       "HBox(children=(IntProgress(value=0, description='Epoch loop', max=1, style=ProgressStyle(description_width='in…"
      ]
     },
     "metadata": {},
     "output_type": "display_data"
    },
    {
     "name": "stdout",
     "output_type": "stream",
     "text": [
      "Epoch 0 - train accuracy : 0.9896 - val accuracy: 0.9829 \n",
      "\n",
      "Time for 1 epoch: 262.37 s \n",
      "\n",
      "Testing with 64000 samples...\n"
     ]
    },
    {
     "data": {
      "application/vnd.jupyter.widget-view+json": {
       "model_id": "c3d7abdc974c4625a9de7714af545c1f",
       "version_major": 2,
       "version_minor": 0
      },
      "text/plain": [
       "HBox(children=(IntProgress(value=0, description='Epoch loop', max=1, style=ProgressStyle(description_width='in…"
      ]
     },
     "metadata": {},
     "output_type": "display_data"
    },
    {
     "name": "stdout",
     "output_type": "stream",
     "text": [
      "Epoch 0 - train accuracy : 0.9891 - val accuracy: 0.9848 \n",
      "\n",
      "Time for 1 epoch: 336.11 s \n",
      "\n"
     ]
    }
   ],
   "source": [
    "times_n_samples = []\n",
    "for n in n_samples:\n",
    "    print(\"Testing with %d samples...\"%n)\n",
    "    (data, label) = gen.create_dataset(n, sigma=0.7)\n",
    "    batch_size = {'train_batch_size':16, 'val_batch_size':128, 'test_batch_size':128}\n",
    "    train_loader, val_loader, test_loader = prepare_dataset(data, label, 0.8, 0.2, **batch_size)\n",
    "    \n",
    "    # independent from the number of samples\n",
    "    net = tn.Network(N=linear_dim**2, M=M, L=2)\n",
    "    \n",
    "    start = time.time()\n",
    "    train_acc, val_acc = net.train(train_loader, val_loader, lr = 0.5, n_epochs = 1, print_freq=1)\n",
    "    dt = time.time() - start\n",
    "    print(\"Time for 1 epoch: %.2f s \\n\"%dt)\n",
    "    times_n_samples.append(dt)"
   ]
  },
  {
   "cell_type": "code",
   "execution_count": 33,
   "metadata": {},
   "outputs": [
    {
     "data": {
      "image/png": "[encoded data removed]",
      "text/plain": [
       "<Figure size 576x432 with 1 Axes>"
      ]
     },
     "metadata": {
      "needs_background": "light"
     },
     "output_type": "display_data"
    }
   ],
   "source": [
    "plt.figure(figsize=(8,6))\n",
    "plt.plot(n_samples, times_n_samples, '-o', label='M = %d \\nlinear dim = %d'%(M,linear_dim))\n",
    "plt.xlabel(\"Number of samples\", fontsize=16)\n",
    "plt.ylabel(\"Time for one epoch [s]\", fontsize=16)\n",
    "plt.title(r\"Training time vs $n_{samples}$\", fontsize=16)\n",
    "plt.legend(fontsize=13)\n",
    "plt.show()"
   ]
  },
  {
   "cell_type": "markdown",
   "metadata": {},
   "source": [
    "## Scaling in the number of pixels"
   ]
  },
  {
   "cell_type": "code",
   "execution_count": 34,
   "metadata": {},
   "outputs": [
    {
     "name": "stdout",
     "output_type": "stream",
     "text": [
      "Linear dimensions tested: \n",
      " [ 4  8 12 16 20 24 28]\n"
     ]
    }
   ],
   "source": [
    "linear_dims = np.arange(4,29,4)\n",
    "print(\"Linear dimensions tested: \\n\", linear_dims)\n",
    "\n",
    "# keep them fixed\n",
    "n_samples = 1000\n",
    "M = 20"
   ]
  },
  {
   "cell_type": "code",
   "execution_count": 37,
   "metadata": {
    "scrolled": true
   },
   "outputs": [
    {
     "name": "stdout",
     "output_type": "stream",
     "text": [
      "Testing with 4 x 4 images...\n"
     ]
    },
    {
     "data": {
      "application/vnd.jupyter.widget-view+json": {
       "model_id": "22385e009aba4be7a3c7366b287f4e42",
       "version_major": 2,
       "version_minor": 0
      },
      "text/plain": [
       "HBox(children=(IntProgress(value=0, description='Epoch loop', max=1, style=ProgressStyle(description_width='in…"
      ]
     },
     "metadata": {},
     "output_type": "display_data"
    },
    {
     "name": "stdout",
     "output_type": "stream",
     "text": [
      "\r",
      "Epoch 0 - train accuracy : 0.9920 - completed : 100.00 % \r",
      "Epoch 0 - train accuracy : 0.9922 - val accuracy: 0.9812\n",
      "\n",
      "Time for 1 epoch: 3.42 s \n",
      "\n",
      "Testing with 8 x 8 images...\n"
     ]
    },
    {
     "data": {
      "application/vnd.jupyter.widget-view+json": {
       "model_id": "35b1f5310ff846ec81df2d9a86cc0242",
       "version_major": 2,
       "version_minor": 0
      },
      "text/plain": [
       "HBox(children=(IntProgress(value=0, description='Epoch loop', max=1, style=ProgressStyle(description_width='in…"
      ]
     },
     "metadata": {},
     "output_type": "display_data"
    },
    {
     "name": "stdout",
     "output_type": "stream",
     "text": [
      "\r",
      "Epoch 0 - train accuracy : 0.5625 - completed : 100.00 % \r",
      "Epoch 0 - train accuracy : 0.5578 - val accuracy: 0.5625\n",
      "\n",
      "Time for 1 epoch: 13.65 s \n",
      "\n",
      "Testing with 12 x 12 images...\n"
     ]
    },
    {
     "data": {
      "application/vnd.jupyter.widget-view+json": {
       "model_id": "75433f260c594fd29b386d75f2211f1d",
       "version_major": 2,
       "version_minor": 0
      },
      "text/plain": [
       "HBox(children=(IntProgress(value=0, description='Epoch loop', max=1, style=ProgressStyle(description_width='in…"
      ]
     },
     "metadata": {},
     "output_type": "display_data"
    },
    {
     "name": "stdout",
     "output_type": "stream",
     "text": [
      "Epoch 0 - train accuracy : 0.9359 - val accuracy: 0.9250 \n",
      "\n",
      "Time for 1 epoch: 31.80 s \n",
      "\n",
      "Testing with 16 x 16 images...\n"
     ]
    },
    {
     "data": {
      "application/vnd.jupyter.widget-view+json": {
       "model_id": "4b948c7eb9a9478988fd6858b7197d1e",
       "version_major": 2,
       "version_minor": 0
      },
      "text/plain": [
       "HBox(children=(IntProgress(value=0, description='Epoch loop', max=1, style=ProgressStyle(description_width='in…"
      ]
     },
     "metadata": {},
     "output_type": "display_data"
    },
    {
     "name": "stdout",
     "output_type": "stream",
     "text": [
      "Epoch 0 - train accuracy : 0.4766 - val accuracy: 0.5188 \n",
      "\n",
      "Time for 1 epoch: 58.87 s \n",
      "\n",
      "Testing with 20 x 20 images...\n"
     ]
    },
    {
     "data": {
      "application/vnd.jupyter.widget-view+json": {
       "model_id": "337a5cd422464e4b90c277cc2c237916",
       "version_major": 2,
       "version_minor": 0
      },
      "text/plain": [
       "HBox(children=(IntProgress(value=0, description='Epoch loop', max=1, style=ProgressStyle(description_width='in…"
      ]
     },
     "metadata": {},
     "output_type": "display_data"
    },
    {
     "name": "stdout",
     "output_type": "stream",
     "text": [
      "Epoch 0 - train accuracy : 0.5266 - val accuracy: 0.4813 \n",
      "\n",
      "Time for 1 epoch: 95.17 s \n",
      "\n",
      "Testing with 24 x 24 images...\n"
     ]
    },
    {
     "data": {
      "application/vnd.jupyter.widget-view+json": {
       "model_id": "4a80d4d4b09249059313cb918d1624d9",
       "version_major": 2,
       "version_minor": 0
      },
      "text/plain": [
       "HBox(children=(IntProgress(value=0, description='Epoch loop', max=1, style=ProgressStyle(description_width='in…"
      ]
     },
     "metadata": {},
     "output_type": "display_data"
    },
    {
     "name": "stdout",
     "output_type": "stream",
     "text": [
      "Epoch 0 - train accuracy : 0.4844 - val accuracy: 0.4875 \n",
      "\n",
      "Time for 1 epoch: 127.21 s \n",
      "\n",
      "Testing with 28 x 28 images...\n"
     ]
    },
    {
     "data": {
      "application/vnd.jupyter.widget-view+json": {
       "model_id": "9a5a3ae3d51542ae8b080921d7378a30",
       "version_major": 2,
       "version_minor": 0
      },
      "text/plain": [
       "HBox(children=(IntProgress(value=0, description='Epoch loop', max=1, style=ProgressStyle(description_width='in…"
      ]
     },
     "metadata": {},
     "output_type": "display_data"
    },
    {
     "name": "stdout",
     "output_type": "stream",
     "text": [
      "Epoch 0 - train accuracy : 0.5078 - val accuracy: 0.5375 \n",
      "\n",
      "Time for 1 epoch: 172.25 s \n",
      "\n"
     ]
    }
   ],
   "source": [
    "times_linear_dims = []\n",
    "for linear_dim in linear_dims:\n",
    "    print(\"Testing with %d x %d images...\"%(linear_dim,linear_dim))\n",
    "    (data, label) = gen.create_dataset(n_samples, sigma=0.7, linear_dim = linear_dim)\n",
    "    batch_size = {'train_batch_size':16, 'val_batch_size':128, 'test_batch_size':128}\n",
    "    train_loader, val_loader, test_loader = prepare_dataset(data, label, 0.8, 0.2, **batch_size)\n",
    "    \n",
    "    # independent from the number of samples\n",
    "    net = tn.Network(N=linear_dim**2, M=M, L=2)\n",
    "    \n",
    "    start = time.time()\n",
    "    train_acc, val_acc = net.train(train_loader, val_loader, lr = 0.5, n_epochs = 1, print_freq=1)\n",
    "    dt = time.time() - start\n",
    "    print(\"Time for 1 epoch: %.2f s \\n\"%dt)\n",
    "    times_linear_dims.append(dt)"
   ]
  },
  {
   "cell_type": "code",
   "execution_count": 42,
   "metadata": {},
   "outputs": [
    {
     "data": {
      "image/png": "[encoded data removed]",
      "text/plain": [
       "<Figure size 576x432 with 1 Axes>"
      ]
     },
     "metadata": {
      "needs_background": "light"
     },
     "output_type": "display_data"
    }
   ],
   "source": [
    "plt.figure(figsize=(8,6))\n",
    "plt.plot(linear_dims**2, times_linear_dims, '-o', label='M = %d \\nnum samples = %d'%(M,n_samples))\n",
    "plt.xlabel(\"Number of pixels\", fontsize=16)\n",
    "plt.ylabel(\"Time for one epoch [s]\", fontsize=16)\n",
    "plt.title(r\"Training time vs $n_{pixels}$\", fontsize=16)\n",
    "plt.legend(fontsize=13)\n",
    "plt.show()"
   ]
  },
  {
   "cell_type": "markdown",
   "metadata": {},
   "source": [
    "## Scaling in the bond dimension"
   ]
  },
  {
   "cell_type": "code",
   "execution_count": 43,
   "metadata": {},
   "outputs": [
    {
     "name": "stdout",
     "output_type": "stream",
     "text": [
      "Bond dimensions tested: \n",
      " [10, 20, 30, 40, 50, 60, 70, 80, 90, 100]\n"
     ]
    }
   ],
   "source": [
    "Ms = [10*i for i in range(1,11)]\n",
    "print(\"Bond dimensions tested: \\n\", Ms)\n",
    "\n",
    "# keep them fixed\n",
    "n_samples = 1000\n",
    "linear_dim = 5"
   ]
  },
  {
   "cell_type": "code",
   "execution_count": 45,
   "metadata": {
    "scrolled": true
   },
   "outputs": [
    {
     "name": "stdout",
     "output_type": "stream",
     "text": [
      "Testing with bond dimension 10...\n"
     ]
    },
    {
     "data": {
      "application/vnd.jupyter.widget-view+json": {
       "model_id": "09f0338c1b814a118492da97f4f743d6",
       "version_major": 2,
       "version_minor": 0
      },
      "text/plain": [
       "HBox(children=(IntProgress(value=0, description='Epoch loop', max=1, style=ProgressStyle(description_width='in…"
      ]
     },
     "metadata": {},
     "output_type": "display_data"
    },
    {
     "name": "stdout",
     "output_type": "stream",
     "text": [
      "\r",
      "Epoch 0 - train accuracy : 0.9904 - completed : 100.00 % \r",
      "Epoch 0 - train accuracy : 0.9906 - val accuracy: 0.9750\n",
      "\n",
      "Time for 1 epoch: 5.52 s \n",
      "\n",
      "Testing with bond dimension 20...\n"
     ]
    },
    {
     "data": {
      "application/vnd.jupyter.widget-view+json": {
       "model_id": "44a3668137404a66b91b87348980f2eb",
       "version_major": 2,
       "version_minor": 0
      },
      "text/plain": [
       "HBox(children=(IntProgress(value=0, description='Epoch loop', max=1, style=ProgressStyle(description_width='in…"
      ]
     },
     "metadata": {},
     "output_type": "display_data"
    },
    {
     "name": "stdout",
     "output_type": "stream",
     "text": [
      "\r",
      "Epoch 0 - train accuracy : 0.9856 - completed : 100.00 % \r",
      "Epoch 0 - train accuracy : 0.9859 - val accuracy: 0.9750\n",
      "\n",
      "Time for 1 epoch: 5.96 s \n",
      "\n",
      "Testing with bond dimension 30...\n"
     ]
    },
    {
     "data": {
      "application/vnd.jupyter.widget-view+json": {
       "model_id": "bdddcabbcfb445b086e9be29954e8580",
       "version_major": 2,
       "version_minor": 0
      },
      "text/plain": [
       "HBox(children=(IntProgress(value=0, description='Epoch loop', max=1, style=ProgressStyle(description_width='in…"
      ]
     },
     "metadata": {},
     "output_type": "display_data"
    },
    {
     "name": "stdout",
     "output_type": "stream",
     "text": [
      "\r",
      "Epoch 0 - train accuracy : 0.9840 - completed : 100.00 % \r",
      "Epoch 0 - train accuracy : 0.9828 - val accuracy: 0.9688\n",
      "\n",
      "Time for 1 epoch: 5.82 s \n",
      "\n",
      "Testing with bond dimension 40...\n"
     ]
    },
    {
     "data": {
      "application/vnd.jupyter.widget-view+json": {
       "model_id": "8bd1f14a16204b8298c844ba5015d30d",
       "version_major": 2,
       "version_minor": 0
      },
      "text/plain": [
       "HBox(children=(IntProgress(value=0, description='Epoch loop', max=1, style=ProgressStyle(description_width='in…"
      ]
     },
     "metadata": {},
     "output_type": "display_data"
    },
    {
     "name": "stdout",
     "output_type": "stream",
     "text": [
      "\r",
      "Epoch 0 - train accuracy : 0.9808 - completed : 100.00 % \r",
      "Epoch 0 - train accuracy : 0.9797 - val accuracy: 0.9938\n",
      "\n",
      "Time for 1 epoch: 5.90 s \n",
      "\n",
      "Testing with bond dimension 50...\n"
     ]
    },
    {
     "data": {
      "application/vnd.jupyter.widget-view+json": {
       "model_id": "5e008e881a264658b55ebb971364eb74",
       "version_major": 2,
       "version_minor": 0
      },
      "text/plain": [
       "HBox(children=(IntProgress(value=0, description='Epoch loop', max=1, style=ProgressStyle(description_width='in…"
      ]
     },
     "metadata": {},
     "output_type": "display_data"
    },
    {
     "name": "stdout",
     "output_type": "stream",
     "text": [
      "\r",
      "Epoch 0 - train accuracy : 0.9920 - completed : 100.00 % \r",
      "Epoch 0 - train accuracy : 0.9922 - val accuracy: 0.9750\n",
      "\n",
      "Time for 1 epoch: 6.26 s \n",
      "\n",
      "Testing with bond dimension 60...\n"
     ]
    },
    {
     "data": {
      "application/vnd.jupyter.widget-view+json": {
       "model_id": "c6443de53e444fb3ab011de142e331ef",
       "version_major": 2,
       "version_minor": 0
      },
      "text/plain": [
       "HBox(children=(IntProgress(value=0, description='Epoch loop', max=1, style=ProgressStyle(description_width='in…"
      ]
     },
     "metadata": {},
     "output_type": "display_data"
    },
    {
     "name": "stdout",
     "output_type": "stream",
     "text": [
      "\r",
      "Epoch 0 - train accuracy : 0.9776 - completed : 100.00 % \r",
      "Epoch 0 - train accuracy : 0.9766 - val accuracy: 0.9812\n",
      "\n",
      "Time for 1 epoch: 7.23 s \n",
      "\n",
      "Testing with bond dimension 70...\n"
     ]
    },
    {
     "data": {
      "application/vnd.jupyter.widget-view+json": {
       "model_id": "c40dc8ce662b41dcb599c406e6242704",
       "version_major": 2,
       "version_minor": 0
      },
      "text/plain": [
       "HBox(children=(IntProgress(value=0, description='Epoch loop', max=1, style=ProgressStyle(description_width='in…"
      ]
     },
     "metadata": {},
     "output_type": "display_data"
    },
    {
     "name": "stdout",
     "output_type": "stream",
     "text": [
      "\r",
      "Epoch 0 - train accuracy : 0.9808 - completed : 100.00 % \r",
      "Epoch 0 - train accuracy : 0.9812 - val accuracy: 0.9750\n",
      "\n",
      "Time for 1 epoch: 7.84 s \n",
      "\n",
      "Testing with bond dimension 80...\n"
     ]
    },
    {
     "data": {
      "application/vnd.jupyter.widget-view+json": {
       "model_id": "6a4aa82eb22b4fcab6b2d9dede7909ef",
       "version_major": 2,
       "version_minor": 0
      },
      "text/plain": [
       "HBox(children=(IntProgress(value=0, description='Epoch loop', max=1, style=ProgressStyle(description_width='in…"
      ]
     },
     "metadata": {},
     "output_type": "display_data"
    },
    {
     "name": "stdout",
     "output_type": "stream",
     "text": [
      "\r",
      "Epoch 0 - train accuracy : 0.9872 - completed : 100.00 % \r",
      "Epoch 0 - train accuracy : 0.9859 - val accuracy: 0.9875\n",
      "\n",
      "Time for 1 epoch: 9.77 s \n",
      "\n",
      "Testing with bond dimension 90...\n"
     ]
    },
    {
     "data": {
      "application/vnd.jupyter.widget-view+json": {
       "model_id": "250476424be94383ba0ec9b5dc3b2893",
       "version_major": 2,
       "version_minor": 0
      },
      "text/plain": [
       "HBox(children=(IntProgress(value=0, description='Epoch loop', max=1, style=ProgressStyle(description_width='in…"
      ]
     },
     "metadata": {},
     "output_type": "display_data"
    },
    {
     "name": "stdout",
     "output_type": "stream",
     "text": [
      "\r",
      "Epoch 0 - train accuracy : 0.9952 - completed : 100.00 % \r",
      "Epoch 0 - train accuracy : 0.9938 - val accuracy: 0.9938\n",
      "\n",
      "Time for 1 epoch: 11.14 s \n",
      "\n",
      "Testing with bond dimension 100...\n"
     ]
    },
    {
     "data": {
      "application/vnd.jupyter.widget-view+json": {
       "model_id": "025f55390cbf4a75ac5e1616f2e65c5c",
       "version_major": 2,
       "version_minor": 0
      },
      "text/plain": [
       "HBox(children=(IntProgress(value=0, description='Epoch loop', max=1, style=ProgressStyle(description_width='in…"
      ]
     },
     "metadata": {},
     "output_type": "display_data"
    },
    {
     "name": "stdout",
     "output_type": "stream",
     "text": [
      "\r",
      "Epoch 0 - train accuracy : 0.9824 - completed : 100.00 % \r",
      "Epoch 0 - train accuracy : 0.9812 - val accuracy: 0.9812\n",
      "\n",
      "Time for 1 epoch: 13.97 s \n",
      "\n"
     ]
    }
   ],
   "source": [
    "times_bond_dims = []\n",
    "for M in Ms:\n",
    "    print(\"Testing with bond dimension %d...\"%M)\n",
    "    (data, label) = gen.create_dataset(n_samples, sigma=0.7)\n",
    "    batch_size = {'train_batch_size':16, 'val_batch_size':128, 'test_batch_size':128}\n",
    "    train_loader, val_loader, test_loader = prepare_dataset(data, label, 0.8, 0.2, **batch_size)\n",
    "    \n",
    "    # independent from the number of samples\n",
    "    net = tn.Network(N=linear_dim**2, M=M, L=2)\n",
    "    \n",
    "    start = time.time()\n",
    "    train_acc, val_acc = net.train(train_loader, val_loader, lr = 0.5, n_epochs = 1, print_freq=1)\n",
    "    dt = time.time() - start\n",
    "    print(\"Time for 1 epoch: %.2f s \\n\"%dt)\n",
    "    times_bond_dims.append(dt)"
   ]
  },
  {
   "cell_type": "code",
   "execution_count": 47,
   "metadata": {},
   "outputs": [
    {
     "data": {
      "image/png": "[encoded data removed]",
      "text/plain": [
       "<Figure size 576x432 with 1 Axes>"
      ]
     },
     "metadata": {
      "needs_background": "light"
     },
     "output_type": "display_data"
    }
   ],
   "source": [
    "plt.figure(figsize=(8,6))\n",
    "plt.plot(Ms, times_bond_dims, '-o', label='linear dim = %d \\nnum samples = %d'%(linear_dim,n_samples))\n",
    "plt.xlabel(\"Bond dimension\", fontsize=16)\n",
    "plt.ylabel(\"Time for one epoch [s]\", fontsize=16)\n",
    "plt.title(\"Training time vs bond dimension\", fontsize=16)\n",
    "plt.legend(fontsize=13)\n",
    "plt.show()"
   ]
  },
  {
   "cell_type": "code",
   "execution_count": null,
   "metadata": {},
   "outputs": [],
   "source": []
  }
 ],
 "metadata": {
  "kernelspec": {
   "display_name": "torch",
   "language": "python",
   "name": "torch"
  },
  "language_info": {
   "codemirror_mode": {
    "name": "ipython",
    "version": 3
   },
   "file_extension": ".py",
   "mimetype": "text/x-python",
   "name": "python",
   "nbconvert_exporter": "python",
   "pygments_lexer": "ipython3",
   "version": "3.7.6"
  }
 },
 "nbformat": 4,
 "nbformat_minor": 2
}
