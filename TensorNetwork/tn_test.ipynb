{
 "cells": [
  {
   "cell_type": "code",
   "execution_count": 1,
   "metadata": {},
   "outputs": [],
   "source": [
    "import numpy as np\n",
    "from tqdm import tnrange\n",
    "import matplotlib.pyplot as plt\n",
    "\n",
    "import sys\n",
    "sys.path.insert(0,\"../\")\n",
    "import data_generator as gen\n",
    "import TensorNetwork as tn\n",
    "\n",
    "from torch.utils.data import DataLoader, Dataset, TensorDataset, SubsetRandomSampler"
   ]
  },
  {
   "cell_type": "code",
   "execution_count": 2,
   "metadata": {},
   "outputs": [],
   "source": [
    "from importlib import reload"
   ]
  },
  {
   "cell_type": "code",
   "execution_count": 3,
   "metadata": {},
   "outputs": [],
   "source": [
    "class NumpyDataset(Dataset):\n",
    "    \"\"\"\n",
    "    Add description\n",
    "    \"\"\"\n",
    "    \n",
    "    def __init__(self, data, label):\n",
    "        self.data = data\n",
    "        self.label = label\n",
    "    \n",
    "    def __len__(self):\n",
    "        return len(self.data)\n",
    "    \n",
    "    def __getitem__(self, index):\n",
    "        return (self.data[index], self.label[index])"
   ]
  },
  {
   "cell_type": "code",
   "execution_count": 4,
   "metadata": {},
   "outputs": [],
   "source": [
    "def prepare_dataset(data, label, train_perc, val_perc, train_batch_size, val_batch_size, test_batch_size):\n",
    "    \"\"\"\n",
    "    Add description\n",
    "    \"\"\"\n",
    "    \n",
    "    def psi(x):\n",
    "        x = np.array((np.sin(np.pi*x/2),np.cos(np.pi*x/2)))\n",
    "        return np.transpose(x, [1,2,0])\n",
    "\n",
    "\n",
    "    # flatten images\n",
    "    x = data.reshape(len(data),-1)\n",
    "    # embedd them\n",
    "    x = psi(x)\n",
    "    \n",
    "    # training/test splitting\n",
    "    m = int(len(x)*train_perc)\n",
    "    x_train= x[:m]\n",
    "    y_train = label[:m]\n",
    "    x_test =  x[m:]\n",
    "    y_test = label[m:]\n",
    "    \n",
    "    # define custom NumpyDatasets\n",
    "    train_set = NumpyDataset(x_train, y_train)\n",
    "    test_set =  NumpyDataset(x_test, y_test)\n",
    "   \n",
    "    train_len = int(m*(1-val_perc))\n",
    "    train_sampler = SubsetRandomSampler(np.arange(train_len))\n",
    "    val_sampler = SubsetRandomSampler(np.arange(train_len,m))\n",
    "\n",
    "    train_loader = DataLoader(train_set, train_batch_size, sampler=train_sampler, drop_last=True, collate_fn=lambda x: x)\n",
    "    val_loader = DataLoader(train_set, val_batch_size, sampler=val_sampler, drop_last=False, collate_fn=lambda x: x)\n",
    "    test_loader = DataLoader(test_set, test_batch_size, drop_last=False, collate_fn=lambda x: x)\n",
    "\n",
    "    return train_loader, val_loader, test_loader"
   ]
  },
  {
   "cell_type": "markdown",
   "metadata": {},
   "source": [
    "## Example of training"
   ]
  },
  {
   "cell_type": "code",
   "execution_count": 231,
   "metadata": {},
   "outputs": [],
   "source": [
    "n_samples = 2000\n",
    "linear_dim = 6\n",
    "M = 20\n",
    "B = 128"
   ]
  },
  {
   "cell_type": "code",
   "execution_count": 232,
   "metadata": {},
   "outputs": [],
   "source": [
    "(data, label) = gen.create_dataset(n_samples, linear_dim=linear_dim, sigma=1)\n",
    "batch_size = {'train_batch_size':B, 'val_batch_size':16, 'test_batch_size':10}\n",
    "train_loader, val_loader, test_loader = prepare_dataset(data, label, 0.8, 0.2, **batch_size)"
   ]
  },
  {
   "cell_type": "code",
   "execution_count": 233,
   "metadata": {},
   "outputs": [
    {
     "data": {
      "text/plain": [
       "<module 'TensorNetwork' from '/home/nicola/Nicola_unipd/QuintoAnno/Quantum Information/TensorNetworkForML/TensorNetwork/TensorNetwork.py'>"
      ]
     },
     "execution_count": 233,
     "metadata": {},
     "output_type": "execute_result"
    }
   ],
   "source": [
    "reload(tn)"
   ]
  },
  {
   "cell_type": "code",
   "execution_count": 234,
   "metadata": {},
   "outputs": [],
   "source": [
    "calibration_batch = next(iter(train_loader))\n",
    "x_calibration = np.array([calibration_batch[i][0] for i in range(len(calibration_batch))])"
   ]
  },
  {
   "cell_type": "code",
   "execution_count": 235,
   "metadata": {},
   "outputs": [
    {
     "name": "stdout",
     "output_type": "stream",
     "text": [
      "Normalizing weights...\n",
      "Scaling factor: 12.80\n",
      "(128, 36, 2)\n",
      "f_max for random input of 128 samples :  2.8273113583634806\n",
      "F2:  1.0292909555294512\n",
      "Sum of all elements of all As (after init):  1125.0952778032427\n",
      "f_max for random input of 128 samples (after):  1.0000000000000002\n"
     ]
    }
   ],
   "source": [
    "N = linear_dim**2\n",
    "net = tn.Network(N=N, M=M, L=2, normalize=True, calibration_X=x_calibration)"
   ]
  },
  {
   "cell_type": "code",
   "execution_count": 209,
   "metadata": {
    "scrolled": true
   },
   "outputs": [
    {
     "data": {
      "application/vnd.jupyter.widget-view+json": {
       "model_id": "637c79f5c2ae45c2a3a82942c5e3b577",
       "version_major": 2,
       "version_minor": 0
      },
      "text/plain": [
       "HBox(children=(IntProgress(value=0, description='Epoch loop', max=10, style=ProgressStyle(description_width='i…"
      ]
     },
     "metadata": {},
     "output_type": "display_data"
    },
    {
     "name": "stdout",
     "output_type": "stream",
     "text": [
      "\n",
      "sweep step  0\n",
      "Accuracy (before optim.):  0.546875\n",
      "MSE (before optim.):  0.26853581047829034\n",
      "deltaB.elem.sum():  -7.908948608450517\n",
      "Accuracy (after optim.):  1.0\n",
      "MSE (after optim.):  0.042714644494891596\n",
      "\n",
      "sweep step  1\n",
      "Accuracy (before optim.):  1.0\n",
      "MSE (before optim.):  0.042714644494891596\n",
      "deltaB.elem.sum():  -5.550501217411815\n",
      "Accuracy (after optim.):  1.0\n",
      "MSE (after optim.):  0.06838663382894386\n",
      "\n",
      "sweep step  2\n",
      "Accuracy (before optim.):  1.0\n",
      "MSE (before optim.):  0.06838663382894386\n",
      "deltaB.elem.sum():  -2.8609766414216447\n",
      "Accuracy (after optim.):  1.0\n",
      "MSE (after optim.):  0.14562547065458817\n",
      "\n",
      "sweep step  3\n",
      "Accuracy (before optim.):  1.0\n",
      "MSE (before optim.):  0.14562547065458817\n",
      "deltaB.elem.sum():  -13.731851688334013\n",
      "Accuracy (after optim.):  0.546875\n",
      "MSE (after optim.):  0.2685291445200285\n",
      "\n",
      "sweep step  4\n",
      "Accuracy (before optim.):  0.546875\n",
      "MSE (before optim.):  0.2685291445200285\n",
      "deltaB.elem.sum():  -0.829668129416901\n",
      "Accuracy (after optim.):  1.0\n",
      "MSE (after optim.):  0.5981111527452688\n",
      "\n",
      "sweep step  5\n",
      "Accuracy (before optim.):  1.0\n",
      "MSE (before optim.):  0.5981111527452688\n",
      "deltaB.elem.sum():  -37.74597444817045\n",
      "Accuracy (after optim.):  0.546875\n",
      "MSE (after optim.):  1.6381461603002894\n",
      "\n",
      "sweep step  6\n",
      "Accuracy (before optim.):  0.546875\n",
      "MSE (before optim.):  1.6381461603002894\n",
      "deltaB.elem.sum():  3.5531305327777774\n",
      "Accuracy (after optim.):  1.0\n",
      "MSE (after optim.):  2.039888433364567\n",
      "\n",
      "sweep step  7\n",
      "Accuracy (before optim.):  1.0\n",
      "MSE (before optim.):  2.039888433364567\n",
      "deltaB.elem.sum():  -51.9351901322849\n",
      "Accuracy (after optim.):  0.546875\n",
      "MSE (after optim.):  2.0593450757669496\n",
      "\n",
      "sweep step  8\n",
      "Accuracy (before optim.):  0.546875\n",
      "MSE (before optim.):  2.0593450757669496\n",
      "deltaB.elem.sum():  -8.662060626721999\n",
      "Accuracy (after optim.):  1.0\n",
      "MSE (after optim.):  2.5164307245424613\n",
      "\n",
      "sweep step  9\n",
      "Accuracy (before optim.):  1.0\n",
      "MSE (before optim.):  2.5164307245424613\n",
      "deltaB.elem.sum():  -55.02291020973763\n",
      "Accuracy (after optim.):  0.546875\n",
      "MSE (after optim.):  4.977435795788828\n",
      "\n",
      "sweep step  10\n",
      "Accuracy (before optim.):  0.546875\n",
      "MSE (before optim.):  4.977435795788828\n",
      "deltaB.elem.sum():  -33.86954743985651\n",
      "Accuracy (after optim.):  0.9765625\n",
      "MSE (after optim.):  3.037863815915594\n",
      "\n",
      "sweep step  11\n",
      "Accuracy (before optim.):  0.9765625\n",
      "MSE (before optim.):  3.037863815915594\n",
      "deltaB.elem.sum():  -52.34667325080598\n",
      "Accuracy (after optim.):  0.546875\n",
      "MSE (after optim.):  7.440781401780524\n",
      "\n",
      "sweep step  12\n",
      "Accuracy (before optim.):  0.546875\n",
      "MSE (before optim.):  7.440781401780524\n",
      "deltaB.elem.sum():  -32.93435966864132\n",
      "Accuracy (after optim.):  0.484375\n",
      "MSE (after optim.):  4.108564041541752\n",
      "\n",
      "sweep step  13\n",
      "Accuracy (before optim.):  0.484375\n",
      "MSE (before optim.):  4.108564041541752\n",
      "deltaB.elem.sum():  -50.40746853654021\n",
      "Accuracy (after optim.):  0.546875\n",
      "MSE (after optim.):  11.531923138313296\n",
      "\n",
      "sweep step  14\n",
      "Accuracy (before optim.):  0.546875\n",
      "MSE (before optim.):  11.531923138313296\n",
      "deltaB.elem.sum():  -38.479156310740876\n",
      "Accuracy (after optim.):  0.453125\n",
      "MSE (after optim.):  3.837016186355293\n",
      "\n",
      "sweep step  15\n",
      "Accuracy (before optim.):  0.453125\n",
      "MSE (before optim.):  3.837016186355293\n",
      "deltaB.elem.sum():  -54.964863824924414\n",
      "Accuracy (after optim.):  0.546875\n",
      "MSE (after optim.):  4.289944542409788\n",
      "\n",
      "sweep step  16\n",
      "Accuracy (before optim.):  0.546875\n",
      "MSE (before optim.):  4.289944542409788\n",
      "deltaB.elem.sum():  -48.72069565809495\n",
      "Accuracy (after optim.):  0.453125\n",
      "MSE (after optim.):  3.135927315909261\n",
      "\n",
      "sweep step  17\n",
      "Accuracy (before optim.):  0.453125\n",
      "MSE (before optim.):  3.135927315909261\n",
      "deltaB.elem.sum():  27.19702546173696\n",
      "Accuracy (after optim.):  0.546875\n",
      "MSE (after optim.):  4.3491124323818315\n",
      "\n",
      "sweep step  18\n",
      "Accuracy (before optim.):  0.546875\n",
      "MSE (before optim.):  4.3491124323818315\n",
      "deltaB.elem.sum():  -52.53933480892308\n",
      "Accuracy (after optim.):  0.453125\n",
      "MSE (after optim.):  2.5913231131303016\n",
      "\n",
      "sweep step  19\n",
      "Accuracy (before optim.):  0.453125\n",
      "MSE (before optim.):  2.5913231131303016\n",
      "deltaB.elem.sum():  32.67081357303013\n",
      "Accuracy (after optim.):  0.546875\n",
      "MSE (after optim.):  6.82457733705427\n",
      "\n",
      "sweep step  20\n",
      "Accuracy (before optim.):  0.546875\n",
      "MSE (before optim.):  6.82457733705427\n",
      "deltaB.elem.sum():  -1.088310564463391\n",
      "Accuracy (after optim.):  0.453125\n",
      "MSE (after optim.):  4.051036599947442\n",
      "\n",
      "sweep step  21\n",
      "Accuracy (before optim.):  0.453125\n",
      "MSE (before optim.):  4.051036599947442\n",
      "deltaB.elem.sum():  93.42059608011164\n",
      "Accuracy (after optim.):  0.546875\n",
      "MSE (after optim.):  24.144021866000664\n",
      "\n",
      "sweep step  22\n",
      "Accuracy (before optim.):  0.546875\n",
      "MSE (before optim.):  24.144021866000664\n",
      "deltaB.elem.sum():  70.17034182709165\n",
      "Accuracy (after optim.):  0.453125\n",
      "MSE (after optim.):  6.487455362675894\n",
      "\n",
      "sweep step  23\n",
      "Accuracy (before optim.):  0.453125\n",
      "MSE (before optim.):  6.487455362675894\n",
      "deltaB.elem.sum():  69.79708709552132\n",
      "Accuracy (after optim.):  0.96875\n",
      "MSE (after optim.):  17.421625077096493\n",
      "\n",
      "sweep step  0\n",
      "Accuracy (before optim.):  0.921875\n",
      "MSE (before optim.):  17.650170801397525\n",
      "deltaB.elem.sum():  21.426622289579917\n",
      "Accuracy (after optim.):  0.453125\n",
      "MSE (after optim.):  21.68536492292222\n",
      "\n",
      "sweep step  1\n",
      "Accuracy (before optim.):  0.453125\n",
      "MSE (before optim.):  21.68536492292222\n",
      "deltaB.elem.sum():  -21.663042565965895\n",
      "Accuracy (after optim.):  0.7578125\n",
      "MSE (after optim.):  154.04687816558425\n",
      "\n",
      "sweep step  2\n",
      "Accuracy (before optim.):  0.7578125\n",
      "MSE (before optim.):  154.04687816558425\n",
      "deltaB.elem.sum():  -91.2521095921298\n",
      "Accuracy (after optim.):  0.453125\n",
      "MSE (after optim.):  37.00426284153531\n",
      "\n",
      "sweep step  3\n",
      "Accuracy (before optim.):  0.453125\n",
      "MSE (before optim.):  37.00426284153531\n",
      "deltaB.elem.sum():  28.11797219911518\n",
      "Accuracy (after optim.):  1.0\n",
      "MSE (after optim.):  167.2081543948747\n",
      "\n",
      "sweep step  4\n",
      "Accuracy (before optim.):  1.0\n",
      "MSE (before optim.):  167.2081543948747\n",
      "deltaB.elem.sum():  -17.09048551190577\n",
      "Accuracy (after optim.):  1.0\n",
      "MSE (after optim.):  7.015866281325898\n",
      "\n",
      "sweep step  5\n",
      "Accuracy (before optim.):  1.0\n",
      "MSE (before optim.):  7.015866281325898\n",
      "deltaB.elem.sum():  -2.867617623178167\n",
      "Accuracy (after optim.):  1.0\n",
      "MSE (after optim.):  4.248182620671618\n",
      "\n",
      "sweep step  6\n",
      "Accuracy (before optim.):  1.0\n",
      "MSE (before optim.):  4.248182620671618\n",
      "deltaB.elem.sum():  1.4533696944348846\n",
      "Accuracy (after optim.):  1.0\n",
      "MSE (after optim.):  2.582349524320655\n",
      "\n",
      "sweep step  7\n",
      "Accuracy (before optim.):  1.0\n",
      "MSE (before optim.):  2.582349524320655\n",
      "deltaB.elem.sum():  0.6098989402024154\n",
      "Accuracy (after optim.):  1.0\n",
      "MSE (after optim.):  1.5222441326084724\n",
      "\n",
      "sweep step  8\n",
      "Accuracy (before optim.):  1.0\n",
      "MSE (before optim.):  1.5222441326084724\n",
      "deltaB.elem.sum():  1.9457606162061225\n",
      "Accuracy (after optim.):  1.0\n",
      "MSE (after optim.):  0.7347841884409652\n",
      "\n",
      "sweep step  9\n",
      "Accuracy (before optim.):  1.0\n",
      "MSE (before optim.):  0.7347841884409652\n",
      "deltaB.elem.sum():  -0.11370295461859647\n",
      "Accuracy (after optim.):  1.0\n",
      "MSE (after optim.):  0.5110096459524229\n",
      "\n",
      "sweep step  10\n",
      "Accuracy (before optim.):  1.0\n",
      "MSE (before optim.):  0.5110096459524229\n",
      "deltaB.elem.sum():  -0.48590297768508195\n",
      "Accuracy (after optim.):  1.0\n",
      "MSE (after optim.):  0.36207313106010225\n",
      "\n",
      "sweep step  11\n",
      "Accuracy (before optim.):  1.0\n",
      "MSE (before optim.):  0.36207313106010225\n",
      "deltaB.elem.sum():  -0.15654855349877606\n",
      "Accuracy (after optim.):  1.0\n",
      "MSE (after optim.):  0.27798652337845886\n",
      "\n",
      "sweep step  12\n",
      "Accuracy (before optim.):  1.0\n",
      "MSE (before optim.):  0.27798652337845886\n",
      "deltaB.elem.sum():  -0.1128839870444257\n",
      "Accuracy (after optim.):  1.0\n",
      "MSE (after optim.):  0.22154901523445727\n",
      "\n",
      "sweep step  13\n",
      "Accuracy (before optim.):  1.0\n",
      "MSE (before optim.):  0.22154901523445727\n",
      "deltaB.elem.sum():  -0.5261104959557271\n",
      "Accuracy (after optim.):  1.0\n",
      "MSE (after optim.):  0.18257086242147455\n",
      "\n",
      "sweep step  14\n",
      "Accuracy (before optim.):  1.0\n",
      "MSE (before optim.):  0.18257086242147455\n",
      "deltaB.elem.sum():  -1.3193414911970616\n",
      "Accuracy (after optim.):  1.0\n",
      "MSE (after optim.):  0.15195307221233348\n",
      "\n",
      "sweep step  15\n",
      "Accuracy (before optim.):  1.0\n",
      "MSE (before optim.):  0.15195307221233348\n",
      "deltaB.elem.sum():  0.42187054542885827\n",
      "Accuracy (after optim.):  1.0\n",
      "MSE (after optim.):  0.12365194876233575\n",
      "\n",
      "sweep step  16\n",
      "Accuracy (before optim.):  1.0\n",
      "MSE (before optim.):  0.12365194876233575\n",
      "deltaB.elem.sum():  0.8052739242432562\n",
      "Accuracy (after optim.):  1.0\n",
      "MSE (after optim.):  0.09215163500392337\n",
      "\n",
      "sweep step  17\n",
      "Accuracy (before optim.):  1.0\n",
      "MSE (before optim.):  0.09215163500392337\n",
      "deltaB.elem.sum():  0.19591829298745833\n",
      "Accuracy (after optim.):  1.0\n",
      "MSE (after optim.):  0.05683733600897385\n",
      "\n",
      "sweep step  18\n",
      "Accuracy (before optim.):  1.0\n",
      "MSE (before optim.):  0.05683733600897385\n",
      "deltaB.elem.sum():  1.625296711418207\n"
     ]
    },
    {
     "name": "stdout",
     "output_type": "stream",
     "text": [
      "Accuracy (after optim.):  1.0\n",
      "MSE (after optim.):  0.026044783642433907\n",
      "\n",
      "sweep step  19\n",
      "Accuracy (before optim.):  1.0\n",
      "MSE (before optim.):  0.026044783642433907\n",
      "deltaB.elem.sum():  -0.30589029369616055\n",
      "Accuracy (after optim.):  1.0\n",
      "MSE (after optim.):  0.010650806519863816\n",
      "\n",
      "sweep step  20\n",
      "Accuracy (before optim.):  1.0\n",
      "MSE (before optim.):  0.010650806519863816\n",
      "deltaB.elem.sum():  0.4842492994390871\n",
      "Accuracy (after optim.):  1.0\n",
      "MSE (after optim.):  0.0035474073181205436\n",
      "\n",
      "sweep step  21\n",
      "Accuracy (before optim.):  1.0\n",
      "MSE (before optim.):  0.0035474073181205436\n",
      "deltaB.elem.sum():  0.17096743774429796\n",
      "Accuracy (after optim.):  1.0\n",
      "MSE (after optim.):  0.0022385322434969883\n",
      "\n",
      "sweep step  22\n",
      "Accuracy (before optim.):  1.0\n",
      "MSE (before optim.):  0.0022385322434969883\n",
      "deltaB.elem.sum():  -0.2918121239296314\n",
      "Accuracy (after optim.):  1.0\n",
      "MSE (after optim.):  0.0032712447862191397\n",
      "\n",
      "sweep step  23\n",
      "Accuracy (before optim.):  1.0\n",
      "MSE (before optim.):  0.0032712447862191397\n",
      "deltaB.elem.sum():  0.01773601450395304\n",
      "Accuracy (after optim.):  1.0\n",
      "MSE (after optim.):  0.08850951345021044\n",
      "\n",
      "sweep step  0\n",
      "Accuracy (before optim.):  1.0\n",
      "MSE (before optim.):  0.10126892468467069\n",
      "deltaB.elem.sum():  -0.30684795733056686\n",
      "Accuracy (after optim.):  0.4453125\n",
      "MSE (after optim.):  7.032506764180102\n",
      "\n",
      "sweep step  1\n",
      "Accuracy (before optim.):  0.4453125\n",
      "MSE (before optim.):  7.032506764180102\n",
      "deltaB.elem.sum():  16.383187175380893\n",
      "Accuracy (after optim.):  1.0\n",
      "MSE (after optim.):  123.90485674176159\n",
      "\n",
      "sweep step  2\n",
      "Accuracy (before optim.):  1.0\n",
      "MSE (before optim.):  123.90485674176159\n",
      "deltaB.elem.sum():  35.58303545610419\n",
      "Accuracy (after optim.):  0.4453125\n",
      "MSE (after optim.):  108.11735530596377\n",
      "\n",
      "sweep step  3\n",
      "Accuracy (before optim.):  0.4453125\n",
      "MSE (before optim.):  108.11735530596377\n",
      "deltaB.elem.sum():  12.747666642818274\n",
      "Accuracy (after optim.):  1.0\n",
      "MSE (after optim.):  69.25623242433187\n",
      "\n",
      "sweep step  4\n",
      "Accuracy (before optim.):  1.0\n",
      "MSE (before optim.):  69.25623242433187\n",
      "deltaB.elem.sum():  9.817134510812014\n",
      "Accuracy (after optim.):  0.4453125\n",
      "MSE (after optim.):  170.81449794012144\n",
      "\n",
      "sweep step  5\n",
      "Accuracy (before optim.):  0.4453125\n",
      "MSE (before optim.):  170.81449794012144\n",
      "deltaB.elem.sum():  31.47318291423611\n",
      "Accuracy (after optim.):  1.0\n",
      "MSE (after optim.):  66.91550085565461\n",
      "\n",
      "sweep step  6\n",
      "Accuracy (before optim.):  1.0\n",
      "MSE (before optim.):  66.91550085565461\n",
      "deltaB.elem.sum():  48.13957481620982\n",
      "Accuracy (after optim.):  0.4453125\n",
      "MSE (after optim.):  174.23712984658806\n",
      "\n",
      "sweep step  7\n",
      "Accuracy (before optim.):  0.4453125\n",
      "MSE (before optim.):  174.23712984658806\n",
      "deltaB.elem.sum():  42.24379513949182\n",
      "Accuracy (after optim.):  1.0\n",
      "MSE (after optim.):  65.4794247542915\n",
      "\n",
      "sweep step  8\n",
      "Accuracy (before optim.):  1.0\n",
      "MSE (before optim.):  65.4794247542915\n",
      "deltaB.elem.sum():  48.66910876067877\n",
      "Accuracy (after optim.):  0.4453125\n",
      "MSE (after optim.):  220.46864837267796\n",
      "\n",
      "sweep step  9\n",
      "Accuracy (before optim.):  0.4453125\n",
      "MSE (before optim.):  220.46864837267796\n",
      "deltaB.elem.sum():  -47.66502758640121\n",
      "Accuracy (after optim.):  1.0\n",
      "MSE (after optim.):  60.89017618807623\n",
      "\n",
      "sweep step  10\n",
      "Accuracy (before optim.):  1.0\n",
      "MSE (before optim.):  60.89017618807623\n",
      "deltaB.elem.sum():  -25.62882461020641\n",
      "Accuracy (after optim.):  0.4453125\n",
      "MSE (after optim.):  192.4849357375718\n",
      "\n",
      "sweep step  11\n",
      "Accuracy (before optim.):  0.4453125\n",
      "MSE (before optim.):  192.4849357375718\n",
      "deltaB.elem.sum():  -30.773299240427086\n",
      "Accuracy (after optim.):  1.0\n",
      "MSE (after optim.):  27.50920202765784\n",
      "\n",
      "sweep step  12\n",
      "Accuracy (before optim.):  1.0\n",
      "MSE (before optim.):  27.50920202765784\n",
      "deltaB.elem.sum():  14.504279353735113\n"
     ]
    },
    {
     "ename": "KeyboardInterrupt",
     "evalue": "",
     "output_type": "error",
     "traceback": [
      "\u001b[0;31m---------------------------------------------------------------------------\u001b[0m",
      "\u001b[0;31mKeyboardInterrupt\u001b[0m                         Traceback (most recent call last)",
      "\u001b[0;32m<ipython-input-209-9594d5c14298>\u001b[0m in \u001b[0;36m<module>\u001b[0;34m\u001b[0m\n\u001b[0;32m----> 1\u001b[0;31m \u001b[0mtrain_acc\u001b[0m\u001b[0;34m,\u001b[0m \u001b[0mval_acc\u001b[0m \u001b[0;34m=\u001b[0m \u001b[0mnet\u001b[0m\u001b[0;34m.\u001b[0m\u001b[0mtrain\u001b[0m\u001b[0;34m(\u001b[0m\u001b[0mtrain_loader\u001b[0m\u001b[0;34m,\u001b[0m \u001b[0mval_loader\u001b[0m\u001b[0;34m,\u001b[0m \u001b[0mlr\u001b[0m \u001b[0;34m=\u001b[0m \u001b[0;36m0.1\u001b[0m\u001b[0;34m,\u001b[0m \u001b[0mn_epochs\u001b[0m \u001b[0;34m=\u001b[0m \u001b[0;36m10\u001b[0m\u001b[0;34m,\u001b[0m \u001b[0mprint_freq\u001b[0m\u001b[0;34m=\u001b[0m\u001b[0;36m1\u001b[0m\u001b[0;34m)\u001b[0m\u001b[0;34m\u001b[0m\u001b[0;34m\u001b[0m\u001b[0m\n\u001b[0m",
      "\u001b[0;32m~/Nicola_unipd/QuintoAnno/Quantum Information/TensorNetworkForML/TensorNetwork/TensorNetwork.py\u001b[0m in \u001b[0;36mtrain\u001b[0;34m(self, train_loader, val_loader, lr, n_epochs, early_stopping, print_freq)\u001b[0m\n\u001b[1;32m    775\u001b[0m                 \u001b[0;31m#print(\"f_debug.elem: \", f_debug.elem)  # incorrect of 10^-11 order\u001b[0m\u001b[0;34m\u001b[0m\u001b[0;34m\u001b[0m\u001b[0;34m\u001b[0m\u001b[0m\n\u001b[1;32m    776\u001b[0m                 \u001b[0my\u001b[0m \u001b[0;34m=\u001b[0m \u001b[0mnp\u001b[0m\u001b[0;34m.\u001b[0m\u001b[0marray\u001b[0m\u001b[0;34m(\u001b[0m\u001b[0;34m[\u001b[0m\u001b[0mdata\u001b[0m\u001b[0;34m[\u001b[0m\u001b[0mi\u001b[0m\u001b[0;34m]\u001b[0m\u001b[0;34m[\u001b[0m\u001b[0;36m1\u001b[0m\u001b[0;34m]\u001b[0m \u001b[0;32mfor\u001b[0m \u001b[0mi\u001b[0m \u001b[0;32min\u001b[0m \u001b[0mrange\u001b[0m\u001b[0;34m(\u001b[0m\u001b[0mlen\u001b[0m\u001b[0;34m(\u001b[0m\u001b[0mdata\u001b[0m\u001b[0;34m)\u001b[0m\u001b[0;34m)\u001b[0m\u001b[0;34m]\u001b[0m\u001b[0;34m)\u001b[0m\u001b[0;34m\u001b[0m\u001b[0;34m\u001b[0m\u001b[0m\n\u001b[0;32m--> 777\u001b[0;31m                 \u001b[0mf\u001b[0m \u001b[0;34m=\u001b[0m \u001b[0mself\u001b[0m\u001b[0;34m.\u001b[0m\u001b[0msweep\u001b[0m\u001b[0;34m(\u001b[0m\u001b[0mx\u001b[0m\u001b[0;34m,\u001b[0m \u001b[0my\u001b[0m\u001b[0;34m,\u001b[0m \u001b[0mlr\u001b[0m\u001b[0;34m)\u001b[0m\u001b[0;34m\u001b[0m\u001b[0;34m\u001b[0m\u001b[0m\n\u001b[0m\u001b[1;32m    778\u001b[0m                 \u001b[0mbatch_acc\u001b[0m \u001b[0;34m=\u001b[0m \u001b[0mself\u001b[0m\u001b[0;34m.\u001b[0m\u001b[0maccuracy\u001b[0m\u001b[0;34m(\u001b[0m\u001b[0mx\u001b[0m\u001b[0;34m,\u001b[0m \u001b[0my\u001b[0m\u001b[0;34m,\u001b[0m \u001b[0mf\u001b[0m\u001b[0;34m)\u001b[0m\u001b[0;34m\u001b[0m\u001b[0;34m\u001b[0m\u001b[0m\n\u001b[1;32m    779\u001b[0m                 \u001b[0mepoch_train_acc\u001b[0m\u001b[0;34m[\u001b[0m\u001b[0mi\u001b[0m\u001b[0;34m]\u001b[0m \u001b[0;34m=\u001b[0m \u001b[0mbatch_acc\u001b[0m\u001b[0;34m\u001b[0m\u001b[0;34m\u001b[0m\u001b[0m\n",
      "\u001b[0;32m~/Nicola_unipd/QuintoAnno/Quantum Information/TensorNetworkForML/TensorNetwork/TensorNetwork.py\u001b[0m in \u001b[0;36msweep\u001b[0;34m(self, X, y, lr)\u001b[0m\n\u001b[1;32m    858\u001b[0m         \u001b[0;32mfor\u001b[0m \u001b[0mi\u001b[0m \u001b[0;32min\u001b[0m \u001b[0mrange\u001b[0m\u001b[0;34m(\u001b[0m\u001b[0mself\u001b[0m\u001b[0;34m.\u001b[0m\u001b[0mN\u001b[0m\u001b[0;34m-\u001b[0m\u001b[0;36m1\u001b[0m\u001b[0;34m)\u001b[0m\u001b[0;34m:\u001b[0m\u001b[0;34m\u001b[0m\u001b[0;34m\u001b[0m\u001b[0m\n\u001b[1;32m    859\u001b[0m             \u001b[0mprint\u001b[0m\u001b[0;34m(\u001b[0m\u001b[0;34m\"\\nsweep step \"\u001b[0m\u001b[0;34m,\u001b[0m\u001b[0mi\u001b[0m\u001b[0;34m)\u001b[0m\u001b[0;34m\u001b[0m\u001b[0;34m\u001b[0m\u001b[0m\n\u001b[0;32m--> 860\u001b[0;31m             \u001b[0mf\u001b[0m \u001b[0;34m=\u001b[0m \u001b[0mself\u001b[0m\u001b[0;34m.\u001b[0m\u001b[0msweep_step\u001b[0m\u001b[0;34m(\u001b[0m\u001b[0mf\u001b[0m\u001b[0;34m,\u001b[0m \u001b[0my\u001b[0m\u001b[0;34m,\u001b[0m \u001b[0mlr\u001b[0m\u001b[0;34m,\u001b[0m \u001b[0mbatch_size\u001b[0m\u001b[0;34m)\u001b[0m\u001b[0;34m\u001b[0m\u001b[0;34m\u001b[0m\u001b[0m\n\u001b[0m\u001b[1;32m    861\u001b[0m             \u001b[0;31m####################\u001b[0m\u001b[0;34m\u001b[0m\u001b[0;34m\u001b[0m\u001b[0;34m\u001b[0m\u001b[0m\n\u001b[1;32m    862\u001b[0m             \u001b[0;31m#sum_of_A = 0 # debug\u001b[0m\u001b[0;34m\u001b[0m\u001b[0;34m\u001b[0m\u001b[0;34m\u001b[0m\u001b[0m\n",
      "\u001b[0;32m~/Nicola_unipd/QuintoAnno/Quantum Information/TensorNetworkForML/TensorNetwork/TensorNetwork.py\u001b[0m in \u001b[0;36msweep_step\u001b[0;34m(self, f, y, lr, batch_size)\u001b[0m\n\u001b[1;32m    985\u001b[0m         \u001b[0;32melif\u001b[0m \u001b[0;34m(\u001b[0m\u001b[0ml\u001b[0m \u001b[0;34m>\u001b[0m \u001b[0;36m0\u001b[0m\u001b[0;34m)\u001b[0m \u001b[0;32mand\u001b[0m \u001b[0;34m(\u001b[0m\u001b[0ml\u001b[0m\u001b[0;34m<\u001b[0m\u001b[0;34m(\u001b[0m\u001b[0mself\u001b[0m\u001b[0;34m.\u001b[0m\u001b[0mN\u001b[0m\u001b[0;34m-\u001b[0m\u001b[0;36m2\u001b[0m\u001b[0;34m)\u001b[0m\u001b[0;34m)\u001b[0m\u001b[0;34m:\u001b[0m\u001b[0;34m\u001b[0m\u001b[0;34m\u001b[0m\u001b[0m\n\u001b[1;32m    986\u001b[0m             \u001b[0mout\u001b[0m \u001b[0;34m=\u001b[0m \u001b[0mcontract\u001b[0m\u001b[0;34m(\u001b[0m\u001b[0mself\u001b[0m\u001b[0;34m.\u001b[0m\u001b[0mleft_contraction\u001b[0m\u001b[0;34m,\u001b[0m \u001b[0mout\u001b[0m\u001b[0;34m,\u001b[0m \u001b[0;34m'right'\u001b[0m\u001b[0;34m,\u001b[0m \u001b[0;34m'left'\u001b[0m\u001b[0;34m,\u001b[0m \u001b[0mcommon\u001b[0m \u001b[0;34m=\u001b[0m \u001b[0;34m\"b\"\u001b[0m\u001b[0;34m)\u001b[0m\u001b[0;34m\u001b[0m\u001b[0;34m\u001b[0m\u001b[0m\n\u001b[0;32m--> 987\u001b[0;31m             \u001b[0mout\u001b[0m \u001b[0;34m=\u001b[0m \u001b[0mcontract\u001b[0m\u001b[0;34m(\u001b[0m\u001b[0mout\u001b[0m\u001b[0;34m,\u001b[0m \u001b[0mself\u001b[0m\u001b[0;34m.\u001b[0m\u001b[0mcum_contraction\u001b[0m\u001b[0;34m[\u001b[0m\u001b[0ml\u001b[0m\u001b[0;34m+\u001b[0m\u001b[0;36m2\u001b[0m\u001b[0;34m]\u001b[0m\u001b[0;34m,\u001b[0m \u001b[0;34m'right'\u001b[0m\u001b[0;34m,\u001b[0m \u001b[0;34m'left'\u001b[0m\u001b[0;34m,\u001b[0m \u001b[0mcommon\u001b[0m \u001b[0;34m=\u001b[0m \u001b[0;34m\"b\"\u001b[0m\u001b[0;34m)\u001b[0m\u001b[0;34m\u001b[0m\u001b[0;34m\u001b[0m\u001b[0m\n\u001b[0m\u001b[1;32m    988\u001b[0m         \u001b[0;32melse\u001b[0m\u001b[0;34m:\u001b[0m\u001b[0;34m\u001b[0m\u001b[0;34m\u001b[0m\u001b[0m\n\u001b[1;32m    989\u001b[0m             \u001b[0mout\u001b[0m \u001b[0;34m=\u001b[0m \u001b[0mcontract\u001b[0m\u001b[0;34m(\u001b[0m\u001b[0mself\u001b[0m\u001b[0;34m.\u001b[0m\u001b[0mleft_contraction\u001b[0m\u001b[0;34m,\u001b[0m \u001b[0mout\u001b[0m\u001b[0;34m,\u001b[0m \u001b[0;34m'right'\u001b[0m\u001b[0;34m,\u001b[0m \u001b[0;34m'left'\u001b[0m\u001b[0;34m,\u001b[0m \u001b[0mcommon\u001b[0m \u001b[0;34m=\u001b[0m \u001b[0;34m\"b\"\u001b[0m\u001b[0;34m)\u001b[0m\u001b[0;34m\u001b[0m\u001b[0;34m\u001b[0m\u001b[0m\n",
      "\u001b[0;32m~/Nicola_unipd/QuintoAnno/Quantum Information/TensorNetworkForML/TensorNetwork/TensorNetwork.py\u001b[0m in \u001b[0;36mcontract\u001b[0;34m(T1, T2, contracted_axis1, contracted_axis2, common_axis1, common_axis2, contracted, common)\u001b[0m\n\u001b[1;32m    432\u001b[0m \u001b[0;34m\u001b[0m\u001b[0m\n\u001b[1;32m    433\u001b[0m     \u001b[0;31m# call _contract_ function for actual contraction\u001b[0m\u001b[0;34m\u001b[0m\u001b[0;34m\u001b[0m\u001b[0;34m\u001b[0m\u001b[0m\n\u001b[0;32m--> 434\u001b[0;31m     \u001b[0;32mreturn\u001b[0m \u001b[0m_contract_\u001b[0m\u001b[0;34m(\u001b[0m\u001b[0mT1\u001b[0m\u001b[0;34m,\u001b[0m \u001b[0mT2\u001b[0m\u001b[0;34m,\u001b[0m \u001b[0mcontracted_axis1\u001b[0m\u001b[0;34m,\u001b[0m \u001b[0mcontracted_axis2\u001b[0m\u001b[0;34m,\u001b[0m \u001b[0mcommon_axis1\u001b[0m\u001b[0;34m,\u001b[0m \u001b[0mcommon_axis2\u001b[0m\u001b[0;34m)\u001b[0m\u001b[0;34m\u001b[0m\u001b[0;34m\u001b[0m\u001b[0m\n\u001b[0m\u001b[1;32m    435\u001b[0m \u001b[0;34m\u001b[0m\u001b[0m\n\u001b[1;32m    436\u001b[0m \u001b[0;34m\u001b[0m\u001b[0m\n",
      "\u001b[0;32m~/Nicola_unipd/QuintoAnno/Quantum Information/TensorNetworkForML/TensorNetwork/TensorNetwork.py\u001b[0m in \u001b[0;36m_contract_\u001b[0;34m(T1, T2, contracted_axis1, contracted_axis2, common_axis1, common_axis2)\u001b[0m\n\u001b[1;32m    354\u001b[0m     \u001b[0;32mif\u001b[0m \u001b[0mlen\u001b[0m\u001b[0;34m(\u001b[0m\u001b[0mcontracted_axis1\u001b[0m\u001b[0;34m)\u001b[0m \u001b[0;34m>\u001b[0m \u001b[0;36m0\u001b[0m\u001b[0;34m:\u001b[0m\u001b[0;34m\u001b[0m\u001b[0;34m\u001b[0m\u001b[0m\n\u001b[1;32m    355\u001b[0m         \u001b[0;31m# if len(contracted_axis1) == 0 just to tensor product\u001b[0m\u001b[0;34m\u001b[0m\u001b[0;34m\u001b[0m\u001b[0;34m\u001b[0m\u001b[0m\n\u001b[0;32m--> 356\u001b[0;31m         \u001b[0mT3\u001b[0m \u001b[0;34m=\u001b[0m \u001b[0mT3\u001b[0m\u001b[0;34m.\u001b[0m\u001b[0msum\u001b[0m\u001b[0;34m(\u001b[0m\u001b[0maxis\u001b[0m\u001b[0;34m=\u001b[0m\u001b[0;34m-\u001b[0m\u001b[0;36m1\u001b[0m\u001b[0;34m)\u001b[0m\u001b[0;34m\u001b[0m\u001b[0;34m\u001b[0m\u001b[0m\n\u001b[0m\u001b[1;32m    357\u001b[0m \u001b[0;34m\u001b[0m\u001b[0m\n\u001b[1;32m    358\u001b[0m     \u001b[0mT3\u001b[0m \u001b[0;34m=\u001b[0m \u001b[0mTensor\u001b[0m\u001b[0;34m(\u001b[0m\u001b[0melem\u001b[0m\u001b[0;34m=\u001b[0m\u001b[0mT3\u001b[0m\u001b[0;34m,\u001b[0m \u001b[0maxes_names\u001b[0m\u001b[0;34m=\u001b[0m\u001b[0mT3_axes_names\u001b[0m\u001b[0;34m)\u001b[0m\u001b[0;34m\u001b[0m\u001b[0;34m\u001b[0m\u001b[0m\n",
      "\u001b[0;32m~/anaconda3/envs/torch/lib/python3.7/site-packages/numpy/core/_methods.py\u001b[0m in \u001b[0;36m_sum\u001b[0;34m(a, axis, dtype, out, keepdims, initial, where)\u001b[0m\n\u001b[1;32m     36\u001b[0m def _sum(a, axis=None, dtype=None, out=None, keepdims=False,\n\u001b[1;32m     37\u001b[0m          initial=_NoValue, where=True):\n\u001b[0;32m---> 38\u001b[0;31m     \u001b[0;32mreturn\u001b[0m \u001b[0mumr_sum\u001b[0m\u001b[0;34m(\u001b[0m\u001b[0ma\u001b[0m\u001b[0;34m,\u001b[0m \u001b[0maxis\u001b[0m\u001b[0;34m,\u001b[0m \u001b[0mdtype\u001b[0m\u001b[0;34m,\u001b[0m \u001b[0mout\u001b[0m\u001b[0;34m,\u001b[0m \u001b[0mkeepdims\u001b[0m\u001b[0;34m,\u001b[0m \u001b[0minitial\u001b[0m\u001b[0;34m,\u001b[0m \u001b[0mwhere\u001b[0m\u001b[0;34m)\u001b[0m\u001b[0;34m\u001b[0m\u001b[0;34m\u001b[0m\u001b[0m\n\u001b[0m\u001b[1;32m     39\u001b[0m \u001b[0;34m\u001b[0m\u001b[0m\n\u001b[1;32m     40\u001b[0m def _prod(a, axis=None, dtype=None, out=None, keepdims=False,\n",
      "\u001b[0;31mKeyboardInterrupt\u001b[0m: "
     ]
    }
   ],
   "source": [
    "train_acc, val_acc = net.train(train_loader, val_loader, lr = 0.1, n_epochs = 10, print_freq=1)"
   ]
  },
  {
   "cell_type": "code",
   "execution_count": 158,
   "metadata": {},
   "outputs": [
    {
     "data": {
      "text/plain": [
       "28.5"
      ]
     },
     "execution_count": 158,
     "metadata": {},
     "output_type": "execute_result"
    }
   ],
   "source": [
    "x = np.arange(10)\n",
    "MSE = (x**2).mean()\n",
    "MSE"
   ]
  },
  {
   "cell_type": "markdown",
   "metadata": {},
   "source": [
    "# Time profiling"
   ]
  },
  {
   "cell_type": "code",
   "execution_count": 26,
   "metadata": {},
   "outputs": [],
   "source": [
    "import time"
   ]
  },
  {
   "cell_type": "markdown",
   "metadata": {},
   "source": [
    "## Scaling in the number of samples"
   ]
  },
  {
   "cell_type": "code",
   "execution_count": 25,
   "metadata": {},
   "outputs": [
    {
     "name": "stdout",
     "output_type": "stream",
     "text": [
      "Number of samples tried: \n",
      " [1000, 4000, 9000, 16000, 25000, 36000, 49000, 64000]\n"
     ]
    }
   ],
   "source": [
    "n_samples = [1000*i**2 for i in range(1,9)]\n",
    "print(\"Number of samples tried: \\n\", n_samples)\n",
    "\n",
    "# keep them fixed\n",
    "linear_dim = 5\n",
    "M = 20"
   ]
  },
  {
   "cell_type": "code",
   "execution_count": 31,
   "metadata": {
    "scrolled": true
   },
   "outputs": [
    {
     "name": "stdout",
     "output_type": "stream",
     "text": [
      "Testing with 1000 samples...\n"
     ]
    },
    {
     "data": {
      "application/vnd.jupyter.widget-view+json": {
       "model_id": "be1f62fa7a604d8093129d5a76fd946b",
       "version_major": 2,
       "version_minor": 0
      },
      "text/plain": [
       "HBox(children=(IntProgress(value=0, description='Epoch loop', max=1, style=ProgressStyle(description_width='in…"
      ]
     },
     "metadata": {},
     "output_type": "display_data"
    },
    {
     "name": "stdout",
     "output_type": "stream",
     "text": [
      "\r",
      "Epoch 0 - train accuracy : 0.9824 - completed : 100.00 % \r",
      "Epoch 0 - train accuracy : 0.9828 - val accuracy: 0.9812\n",
      "\n",
      "Time for 1 epoch: 5.59 s \n",
      "\n",
      "Testing with 4000 samples...\n"
     ]
    },
    {
     "data": {
      "application/vnd.jupyter.widget-view+json": {
       "model_id": "94eca4fdd07e40068022ea5751cc9434",
       "version_major": 2,
       "version_minor": 0
      },
      "text/plain": [
       "HBox(children=(IntProgress(value=0, description='Epoch loop', max=1, style=ProgressStyle(description_width='in…"
      ]
     },
     "metadata": {},
     "output_type": "display_data"
    },
    {
     "name": "stdout",
     "output_type": "stream",
     "text": [
      "\r",
      "Epoch 0 - train accuracy : 0.9870 - completed : 100.00 % \r",
      "Epoch 0 - train accuracy : 0.9871 - val accuracy: 0.9844\n",
      "\n",
      "Time for 1 epoch: 20.63 s \n",
      "\n",
      "Testing with 9000 samples...\n"
     ]
    },
    {
     "data": {
      "application/vnd.jupyter.widget-view+json": {
       "model_id": "bcc3f785dc1b44d59da78f7ebcfe8650",
       "version_major": 2,
       "version_minor": 0
      },
      "text/plain": [
       "HBox(children=(IntProgress(value=0, description='Epoch loop', max=1, style=ProgressStyle(description_width='in…"
      ]
     },
     "metadata": {},
     "output_type": "display_data"
    },
    {
     "name": "stdout",
     "output_type": "stream",
     "text": [
      "Epoch 0 - train accuracy : 0.9911 - val accuracy: 0.9854 \n",
      "\n",
      "Time for 1 epoch: 49.90 s \n",
      "\n",
      "Testing with 16000 samples...\n"
     ]
    },
    {
     "data": {
      "application/vnd.jupyter.widget-view+json": {
       "model_id": "9ab7bfa7b0e24d80b281d1e056621b0c",
       "version_major": 2,
       "version_minor": 0
      },
      "text/plain": [
       "HBox(children=(IntProgress(value=0, description='Epoch loop', max=1, style=ProgressStyle(description_width='in…"
      ]
     },
     "metadata": {},
     "output_type": "display_data"
    },
    {
     "name": "stdout",
     "output_type": "stream",
     "text": [
      "Epoch 0 - train accuracy : 0.9888 - val accuracy: 0.9844 \n",
      "\n",
      "Time for 1 epoch: 86.18 s \n",
      "\n",
      "Testing with 25000 samples...\n"
     ]
    },
    {
     "data": {
      "application/vnd.jupyter.widget-view+json": {
       "model_id": "bba0bc4570d94766814852921e6ed736",
       "version_major": 2,
       "version_minor": 0
      },
      "text/plain": [
       "HBox(children=(IntProgress(value=0, description='Epoch loop', max=1, style=ProgressStyle(description_width='in…"
      ]
     },
     "metadata": {},
     "output_type": "display_data"
    },
    {
     "name": "stdout",
     "output_type": "stream",
     "text": [
      "Epoch 0 - train accuracy : 0.9913 - val accuracy: 0.9810 \n",
      "\n",
      "Time for 1 epoch: 134.82 s \n",
      "\n",
      "Testing with 36000 samples...\n"
     ]
    },
    {
     "data": {
      "application/vnd.jupyter.widget-view+json": {
       "model_id": "1dab1a6409b4479eb7c26630049121d8",
       "version_major": 2,
       "version_minor": 0
      },
      "text/plain": [
       "HBox(children=(IntProgress(value=0, description='Epoch loop', max=1, style=ProgressStyle(description_width='in…"
      ]
     },
     "metadata": {},
     "output_type": "display_data"
    },
    {
     "name": "stdout",
     "output_type": "stream",
     "text": [
      "Epoch 0 - train accuracy : 0.9892 - val accuracy: 0.9877 \n",
      "\n",
      "Time for 1 epoch: 190.00 s \n",
      "\n",
      "Testing with 49000 samples...\n"
     ]
    },
    {
     "data": {
      "application/vnd.jupyter.widget-view+json": {
       "model_id": "161621be6ee54e74821a5e9a6004d784",
       "version_major": 2,
       "version_minor": 0
      },
      "text/plain": [
       "HBox(children=(IntProgress(value=0, description='Epoch loop', max=1, style=ProgressStyle(description_width='in…"
      ]
     },
     "metadata": {},
     "output_type": "display_data"
    },
    {
     "name": "stdout",
     "output_type": "stream",
     "text": [
      "Epoch 0 - train accuracy : 0.9896 - val accuracy: 0.9829 \n",
      "\n",
      "Time for 1 epoch: 262.37 s \n",
      "\n",
      "Testing with 64000 samples...\n"
     ]
    },
    {
     "data": {
      "application/vnd.jupyter.widget-view+json": {
       "model_id": "c3d7abdc974c4625a9de7714af545c1f",
       "version_major": 2,
       "version_minor": 0
      },
      "text/plain": [
       "HBox(children=(IntProgress(value=0, description='Epoch loop', max=1, style=ProgressStyle(description_width='in…"
      ]
     },
     "metadata": {},
     "output_type": "display_data"
    },
    {
     "name": "stdout",
     "output_type": "stream",
     "text": [
      "Epoch 0 - train accuracy : 0.9891 - val accuracy: 0.9848 \n",
      "\n",
      "Time for 1 epoch: 336.11 s \n",
      "\n"
     ]
    }
   ],
   "source": [
    "times_n_samples = []\n",
    "for n in n_samples:\n",
    "    print(\"Testing with %d samples...\"%n)\n",
    "    (data, label) = gen.create_dataset(n, sigma=0.7)\n",
    "    batch_size = {'train_batch_size':16, 'val_batch_size':128, 'test_batch_size':128}\n",
    "    train_loader, val_loader, test_loader = prepare_dataset(data, label, 0.8, 0.2, **batch_size)\n",
    "    \n",
    "    # independent from the number of samples\n",
    "    net = tn.Network(N=linear_dim**2, M=M, L=2)\n",
    "    \n",
    "    start = time.time()\n",
    "    train_acc, val_acc = net.train(train_loader, val_loader, lr = 0.5, n_epochs = 1, print_freq=1)\n",
    "    dt = time.time() - start\n",
    "    print(\"Time for 1 epoch: %.2f s \\n\"%dt)\n",
    "    times_n_samples.append(dt)"
   ]
  },
  {
   "cell_type": "code",
   "execution_count": 33,
   "metadata": {},
   "outputs": [
    {
     "data": {
      "image/png": "[encoded data removed]",
      "text/plain": [
       "<Figure size 576x432 with 1 Axes>"
      ]
     },
     "metadata": {
      "needs_background": "light"
     },
     "output_type": "display_data"
    }
   ],
   "source": [
    "plt.figure(figsize=(8,6))\n",
    "plt.plot(n_samples, times_n_samples, '-o', label='M = %d \\nlinear dim = %d'%(M,linear_dim))\n",
    "plt.xlabel(\"Number of samples\", fontsize=16)\n",
    "plt.ylabel(\"Time for one epoch [s]\", fontsize=16)\n",
    "plt.title(r\"Training time vs $n_{samples}$\", fontsize=16)\n",
    "plt.legend(fontsize=13)\n",
    "plt.show()"
   ]
  },
  {
   "cell_type": "markdown",
   "metadata": {},
   "source": [
    "## Scaling in the number of pixels"
   ]
  },
  {
   "cell_type": "code",
   "execution_count": 34,
   "metadata": {},
   "outputs": [
    {
     "name": "stdout",
     "output_type": "stream",
     "text": [
      "Linear dimensions tested: \n",
      " [ 4  8 12 16 20 24 28]\n"
     ]
    }
   ],
   "source": [
    "linear_dims = np.arange(4,29,4)\n",
    "print(\"Linear dimensions tested: \\n\", linear_dims)\n",
    "\n",
    "# keep them fixed\n",
    "n_samples = 1000\n",
    "M = 20"
   ]
  },
  {
   "cell_type": "code",
   "execution_count": 37,
   "metadata": {
    "scrolled": true
   },
   "outputs": [
    {
     "name": "stdout",
     "output_type": "stream",
     "text": [
      "Testing with 4 x 4 images...\n"
     ]
    },
    {
     "data": {
      "application/vnd.jupyter.widget-view+json": {
       "model_id": "22385e009aba4be7a3c7366b287f4e42",
       "version_major": 2,
       "version_minor": 0
      },
      "text/plain": [
       "HBox(children=(IntProgress(value=0, description='Epoch loop', max=1, style=ProgressStyle(description_width='in…"
      ]
     },
     "metadata": {},
     "output_type": "display_data"
    },
    {
     "name": "stdout",
     "output_type": "stream",
     "text": [
      "\r",
      "Epoch 0 - train accuracy : 0.9920 - completed : 100.00 % \r",
      "Epoch 0 - train accuracy : 0.9922 - val accuracy: 0.9812\n",
      "\n",
      "Time for 1 epoch: 3.42 s \n",
      "\n",
      "Testing with 8 x 8 images...\n"
     ]
    },
    {
     "data": {
      "application/vnd.jupyter.widget-view+json": {
       "model_id": "35b1f5310ff846ec81df2d9a86cc0242",
       "version_major": 2,
       "version_minor": 0
      },
      "text/plain": [
       "HBox(children=(IntProgress(value=0, description='Epoch loop', max=1, style=ProgressStyle(description_width='in…"
      ]
     },
     "metadata": {},
     "output_type": "display_data"
    },
    {
     "name": "stdout",
     "output_type": "stream",
     "text": [
      "\r",
      "Epoch 0 - train accuracy : 0.5625 - completed : 100.00 % \r",
      "Epoch 0 - train accuracy : 0.5578 - val accuracy: 0.5625\n",
      "\n",
      "Time for 1 epoch: 13.65 s \n",
      "\n",
      "Testing with 12 x 12 images...\n"
     ]
    },
    {
     "data": {
      "application/vnd.jupyter.widget-view+json": {
       "model_id": "75433f260c594fd29b386d75f2211f1d",
       "version_major": 2,
       "version_minor": 0
      },
      "text/plain": [
       "HBox(children=(IntProgress(value=0, description='Epoch loop', max=1, style=ProgressStyle(description_width='in…"
      ]
     },
     "metadata": {},
     "output_type": "display_data"
    },
    {
     "name": "stdout",
     "output_type": "stream",
     "text": [
      "Epoch 0 - train accuracy : 0.9359 - val accuracy: 0.9250 \n",
      "\n",
      "Time for 1 epoch: 31.80 s \n",
      "\n",
      "Testing with 16 x 16 images...\n"
     ]
    },
    {
     "data": {
      "application/vnd.jupyter.widget-view+json": {
       "model_id": "4b948c7eb9a9478988fd6858b7197d1e",
       "version_major": 2,
       "version_minor": 0
      },
      "text/plain": [
       "HBox(children=(IntProgress(value=0, description='Epoch loop', max=1, style=ProgressStyle(description_width='in…"
      ]
     },
     "metadata": {},
     "output_type": "display_data"
    },
    {
     "name": "stdout",
     "output_type": "stream",
     "text": [
      "Epoch 0 - train accuracy : 0.4766 - val accuracy: 0.5188 \n",
      "\n",
      "Time for 1 epoch: 58.87 s \n",
      "\n",
      "Testing with 20 x 20 images...\n"
     ]
    },
    {
     "data": {
      "application/vnd.jupyter.widget-view+json": {
       "model_id": "337a5cd422464e4b90c277cc2c237916",
       "version_major": 2,
       "version_minor": 0
      },
      "text/plain": [
       "HBox(children=(IntProgress(value=0, description='Epoch loop', max=1, style=ProgressStyle(description_width='in…"
      ]
     },
     "metadata": {},
     "output_type": "display_data"
    },
    {
     "name": "stdout",
     "output_type": "stream",
     "text": [
      "Epoch 0 - train accuracy : 0.5266 - val accuracy: 0.4813 \n",
      "\n",
      "Time for 1 epoch: 95.17 s \n",
      "\n",
      "Testing with 24 x 24 images...\n"
     ]
    },
    {
     "data": {
      "application/vnd.jupyter.widget-view+json": {
       "model_id": "4a80d4d4b09249059313cb918d1624d9",
       "version_major": 2,
       "version_minor": 0
      },
      "text/plain": [
       "HBox(children=(IntProgress(value=0, description='Epoch loop', max=1, style=ProgressStyle(description_width='in…"
      ]
     },
     "metadata": {},
     "output_type": "display_data"
    },
    {
     "name": "stdout",
     "output_type": "stream",
     "text": [
      "Epoch 0 - train accuracy : 0.4844 - val accuracy: 0.4875 \n",
      "\n",
      "Time for 1 epoch: 127.21 s \n",
      "\n",
      "Testing with 28 x 28 images...\n"
     ]
    },
    {
     "data": {
      "application/vnd.jupyter.widget-view+json": {
       "model_id": "9a5a3ae3d51542ae8b080921d7378a30",
       "version_major": 2,
       "version_minor": 0
      },
      "text/plain": [
       "HBox(children=(IntProgress(value=0, description='Epoch loop', max=1, style=ProgressStyle(description_width='in…"
      ]
     },
     "metadata": {},
     "output_type": "display_data"
    },
    {
     "name": "stdout",
     "output_type": "stream",
     "text": [
      "Epoch 0 - train accuracy : 0.5078 - val accuracy: 0.5375 \n",
      "\n",
      "Time for 1 epoch: 172.25 s \n",
      "\n"
     ]
    }
   ],
   "source": [
    "times_linear_dims = []\n",
    "for linear_dim in linear_dims:\n",
    "    print(\"Testing with %d x %d images...\"%(linear_dim,linear_dim))\n",
    "    (data, label) = gen.create_dataset(n_samples, sigma=0.7, linear_dim = linear_dim)\n",
    "    batch_size = {'train_batch_size':16, 'val_batch_size':128, 'test_batch_size':128}\n",
    "    train_loader, val_loader, test_loader = prepare_dataset(data, label, 0.8, 0.2, **batch_size)\n",
    "    \n",
    "    # independent from the number of samples\n",
    "    net = tn.Network(N=linear_dim**2, M=M, L=2)\n",
    "    \n",
    "    start = time.time()\n",
    "    train_acc, val_acc = net.train(train_loader, val_loader, lr = 0.5, n_epochs = 1, print_freq=1)\n",
    "    dt = time.time() - start\n",
    "    print(\"Time for 1 epoch: %.2f s \\n\"%dt)\n",
    "    times_linear_dims.append(dt)"
   ]
  },
  {
   "cell_type": "code",
   "execution_count": 42,
   "metadata": {},
   "outputs": [
    {
     "data": {
      "image/png": "[encoded data removed]",
      "text/plain": [
       "<Figure size 576x432 with 1 Axes>"
      ]
     },
     "metadata": {
      "needs_background": "light"
     },
     "output_type": "display_data"
    }
   ],
   "source": [
    "plt.figure(figsize=(8,6))\n",
    "plt.plot(linear_dims**2, times_linear_dims, '-o', label='M = %d \\nnum samples = %d'%(M,n_samples))\n",
    "plt.xlabel(\"Number of pixels\", fontsize=16)\n",
    "plt.ylabel(\"Time for one epoch [s]\", fontsize=16)\n",
    "plt.title(r\"Training time vs $n_{pixels}$\", fontsize=16)\n",
    "plt.legend(fontsize=13)\n",
    "plt.show()"
   ]
  },
  {
   "cell_type": "markdown",
   "metadata": {},
   "source": [
    "## Scaling in the bond dimension"
   ]
  },
  {
   "cell_type": "code",
   "execution_count": 43,
   "metadata": {},
   "outputs": [
    {
     "name": "stdout",
     "output_type": "stream",
     "text": [
      "Bond dimensions tested: \n",
      " [10, 20, 30, 40, 50, 60, 70, 80, 90, 100]\n"
     ]
    }
   ],
   "source": [
    "Ms = [10*i for i in range(1,11)]\n",
    "print(\"Bond dimensions tested: \\n\", Ms)\n",
    "\n",
    "# keep them fixed\n",
    "n_samples = 1000\n",
    "linear_dim = 5"
   ]
  },
  {
   "cell_type": "code",
   "execution_count": 45,
   "metadata": {
    "scrolled": true
   },
   "outputs": [
    {
     "name": "stdout",
     "output_type": "stream",
     "text": [
      "Testing with bond dimension 10...\n"
     ]
    },
    {
     "data": {
      "application/vnd.jupyter.widget-view+json": {
       "model_id": "09f0338c1b814a118492da97f4f743d6",
       "version_major": 2,
       "version_minor": 0
      },
      "text/plain": [
       "HBox(children=(IntProgress(value=0, description='Epoch loop', max=1, style=ProgressStyle(description_width='in…"
      ]
     },
     "metadata": {},
     "output_type": "display_data"
    },
    {
     "name": "stdout",
     "output_type": "stream",
     "text": [
      "\r",
      "Epoch 0 - train accuracy : 0.9904 - completed : 100.00 % \r",
      "Epoch 0 - train accuracy : 0.9906 - val accuracy: 0.9750\n",
      "\n",
      "Time for 1 epoch: 5.52 s \n",
      "\n",
      "Testing with bond dimension 20...\n"
     ]
    },
    {
     "data": {
      "application/vnd.jupyter.widget-view+json": {
       "model_id": "44a3668137404a66b91b87348980f2eb",
       "version_major": 2,
       "version_minor": 0
      },
      "text/plain": [
       "HBox(children=(IntProgress(value=0, description='Epoch loop', max=1, style=ProgressStyle(description_width='in…"
      ]
     },
     "metadata": {},
     "output_type": "display_data"
    },
    {
     "name": "stdout",
     "output_type": "stream",
     "text": [
      "\r",
      "Epoch 0 - train accuracy : 0.9856 - completed : 100.00 % \r",
      "Epoch 0 - train accuracy : 0.9859 - val accuracy: 0.9750\n",
      "\n",
      "Time for 1 epoch: 5.96 s \n",
      "\n",
      "Testing with bond dimension 30...\n"
     ]
    },
    {
     "data": {
      "application/vnd.jupyter.widget-view+json": {
       "model_id": "bdddcabbcfb445b086e9be29954e8580",
       "version_major": 2,
       "version_minor": 0
      },
      "text/plain": [
       "HBox(children=(IntProgress(value=0, description='Epoch loop', max=1, style=ProgressStyle(description_width='in…"
      ]
     },
     "metadata": {},
     "output_type": "display_data"
    },
    {
     "name": "stdout",
     "output_type": "stream",
     "text": [
      "\r",
      "Epoch 0 - train accuracy : 0.9840 - completed : 100.00 % \r",
      "Epoch 0 - train accuracy : 0.9828 - val accuracy: 0.9688\n",
      "\n",
      "Time for 1 epoch: 5.82 s \n",
      "\n",
      "Testing with bond dimension 40...\n"
     ]
    },
    {
     "data": {
      "application/vnd.jupyter.widget-view+json": {
       "model_id": "8bd1f14a16204b8298c844ba5015d30d",
       "version_major": 2,
       "version_minor": 0
      },
      "text/plain": [
       "HBox(children=(IntProgress(value=0, description='Epoch loop', max=1, style=ProgressStyle(description_width='in…"
      ]
     },
     "metadata": {},
     "output_type": "display_data"
    },
    {
     "name": "stdout",
     "output_type": "stream",
     "text": [
      "\r",
      "Epoch 0 - train accuracy : 0.9808 - completed : 100.00 % \r",
      "Epoch 0 - train accuracy : 0.9797 - val accuracy: 0.9938\n",
      "\n",
      "Time for 1 epoch: 5.90 s \n",
      "\n",
      "Testing with bond dimension 50...\n"
     ]
    },
    {
     "data": {
      "application/vnd.jupyter.widget-view+json": {
       "model_id": "5e008e881a264658b55ebb971364eb74",
       "version_major": 2,
       "version_minor": 0
      },
      "text/plain": [
       "HBox(children=(IntProgress(value=0, description='Epoch loop', max=1, style=ProgressStyle(description_width='in…"
      ]
     },
     "metadata": {},
     "output_type": "display_data"
    },
    {
     "name": "stdout",
     "output_type": "stream",
     "text": [
      "\r",
      "Epoch 0 - train accuracy : 0.9920 - completed : 100.00 % \r",
      "Epoch 0 - train accuracy : 0.9922 - val accuracy: 0.9750\n",
      "\n",
      "Time for 1 epoch: 6.26 s \n",
      "\n",
      "Testing with bond dimension 60...\n"
     ]
    },
    {
     "data": {
      "application/vnd.jupyter.widget-view+json": {
       "model_id": "c6443de53e444fb3ab011de142e331ef",
       "version_major": 2,
       "version_minor": 0
      },
      "text/plain": [
       "HBox(children=(IntProgress(value=0, description='Epoch loop', max=1, style=ProgressStyle(description_width='in…"
      ]
     },
     "metadata": {},
     "output_type": "display_data"
    },
    {
     "name": "stdout",
     "output_type": "stream",
     "text": [
      "\r",
      "Epoch 0 - train accuracy : 0.9776 - completed : 100.00 % \r",
      "Epoch 0 - train accuracy : 0.9766 - val accuracy: 0.9812\n",
      "\n",
      "Time for 1 epoch: 7.23 s \n",
      "\n",
      "Testing with bond dimension 70...\n"
     ]
    },
    {
     "data": {
      "application/vnd.jupyter.widget-view+json": {
       "model_id": "c40dc8ce662b41dcb599c406e6242704",
       "version_major": 2,
       "version_minor": 0
      },
      "text/plain": [
       "HBox(children=(IntProgress(value=0, description='Epoch loop', max=1, style=ProgressStyle(description_width='in…"
      ]
     },
     "metadata": {},
     "output_type": "display_data"
    },
    {
     "name": "stdout",
     "output_type": "stream",
     "text": [
      "\r",
      "Epoch 0 - train accuracy : 0.9808 - completed : 100.00 % \r",
      "Epoch 0 - train accuracy : 0.9812 - val accuracy: 0.9750\n",
      "\n",
      "Time for 1 epoch: 7.84 s \n",
      "\n",
      "Testing with bond dimension 80...\n"
     ]
    },
    {
     "data": {
      "application/vnd.jupyter.widget-view+json": {
       "model_id": "6a4aa82eb22b4fcab6b2d9dede7909ef",
       "version_major": 2,
       "version_minor": 0
      },
      "text/plain": [
       "HBox(children=(IntProgress(value=0, description='Epoch loop', max=1, style=ProgressStyle(description_width='in…"
      ]
     },
     "metadata": {},
     "output_type": "display_data"
    },
    {
     "name": "stdout",
     "output_type": "stream",
     "text": [
      "\r",
      "Epoch 0 - train accuracy : 0.9872 - completed : 100.00 % \r",
      "Epoch 0 - train accuracy : 0.9859 - val accuracy: 0.9875\n",
      "\n",
      "Time for 1 epoch: 9.77 s \n",
      "\n",
      "Testing with bond dimension 90...\n"
     ]
    },
    {
     "data": {
      "application/vnd.jupyter.widget-view+json": {
       "model_id": "250476424be94383ba0ec9b5dc3b2893",
       "version_major": 2,
       "version_minor": 0
      },
      "text/plain": [
       "HBox(children=(IntProgress(value=0, description='Epoch loop', max=1, style=ProgressStyle(description_width='in…"
      ]
     },
     "metadata": {},
     "output_type": "display_data"
    },
    {
     "name": "stdout",
     "output_type": "stream",
     "text": [
      "\r",
      "Epoch 0 - train accuracy : 0.9952 - completed : 100.00 % \r",
      "Epoch 0 - train accuracy : 0.9938 - val accuracy: 0.9938\n",
      "\n",
      "Time for 1 epoch: 11.14 s \n",
      "\n",
      "Testing with bond dimension 100...\n"
     ]
    },
    {
     "data": {
      "application/vnd.jupyter.widget-view+json": {
       "model_id": "025f55390cbf4a75ac5e1616f2e65c5c",
       "version_major": 2,
       "version_minor": 0
      },
      "text/plain": [
       "HBox(children=(IntProgress(value=0, description='Epoch loop', max=1, style=ProgressStyle(description_width='in…"
      ]
     },
     "metadata": {},
     "output_type": "display_data"
    },
    {
     "name": "stdout",
     "output_type": "stream",
     "text": [
      "\r",
      "Epoch 0 - train accuracy : 0.9824 - completed : 100.00 % \r",
      "Epoch 0 - train accuracy : 0.9812 - val accuracy: 0.9812\n",
      "\n",
      "Time for 1 epoch: 13.97 s \n",
      "\n"
     ]
    }
   ],
   "source": [
    "times_bond_dims = []\n",
    "for M in Ms:\n",
    "    print(\"Testing with bond dimension %d...\"%M)\n",
    "    (data, label) = gen.create_dataset(n_samples, sigma=0.7)\n",
    "    batch_size = {'train_batch_size':16, 'val_batch_size':128, 'test_batch_size':128}\n",
    "    train_loader, val_loader, test_loader = prepare_dataset(data, label, 0.8, 0.2, **batch_size)\n",
    "    \n",
    "    # independent from the number of samples\n",
    "    net = tn.Network(N=linear_dim**2, M=M, L=2)\n",
    "    \n",
    "    start = time.time()\n",
    "    train_acc, val_acc = net.train(train_loader, val_loader, lr = 0.5, n_epochs = 1, print_freq=1)\n",
    "    dt = time.time() - start\n",
    "    print(\"Time for 1 epoch: %.2f s \\n\"%dt)\n",
    "    times_bond_dims.append(dt)"
   ]
  },
  {
   "cell_type": "code",
   "execution_count": 47,
   "metadata": {},
   "outputs": [
    {
     "data": {
      "image/png": "[encoded data removed]",
      "text/plain": [
       "<Figure size 576x432 with 1 Axes>"
      ]
     },
     "metadata": {
      "needs_background": "light"
     },
     "output_type": "display_data"
    }
   ],
   "source": [
    "plt.figure(figsize=(8,6))\n",
    "plt.plot(Ms, times_bond_dims, '-o', label='linear dim = %d \\nnum samples = %d'%(linear_dim,n_samples))\n",
    "plt.xlabel(\"Bond dimension\", fontsize=16)\n",
    "plt.ylabel(\"Time for one epoch [s]\", fontsize=16)\n",
    "plt.title(\"Training time vs bond dimension\", fontsize=16)\n",
    "plt.legend(fontsize=13)\n",
    "plt.show()"
   ]
  },
  {
   "cell_type": "markdown",
   "metadata": {},
   "source": [
    "## Weight initialization\n",
    "\n",
    "**Objective:** study what is the dependence in the output magnitude of the various dimensions so that we can choose how to normalize the matrices A during initialization.\n",
    "\n",
    "**Parameters:**\n",
    "* Number of pixels N\n",
    "* Bond dimension M\n",
    "* Batch size B\n",
    "* Embedding dimension D (fixed to 2)\n",
    "\n",
    "Only the first 3 will be inquired.\n",
    "\n",
    "**Methodology:** Use random input in [0,1] and random initialization in [0,1] for different dimensions and look at the absolute value of the output (take the output among the L with the highest absolute value)."
   ]
  },
  {
   "cell_type": "code",
   "execution_count": 7,
   "metadata": {},
   "outputs": [
    {
     "data": {
      "text/plain": [
       "<module 'TensorNetwork' from '/home/nicola/Nicola_unipd/QuintoAnno/Quantum Information/TensorNetworkForML/TensorNetwork/TensorNetwork.py'>"
      ]
     },
     "execution_count": 7,
     "metadata": {},
     "output_type": "execute_result"
    }
   ],
   "source": [
    "from importlib import reload\n",
    "reload(tn)"
   ]
  },
  {
   "cell_type": "markdown",
   "metadata": {},
   "source": [
    "### Dependence on the number of pixels N"
   ]
  },
  {
   "cell_type": "code",
   "execution_count": 80,
   "metadata": {},
   "outputs": [
    {
     "name": "stdout",
     "output_type": "stream",
     "text": [
      "Linear dimensions tested: \n",
      " [ 4  5  6  7  8  9 10 11 12 13 14 15]\n"
     ]
    }
   ],
   "source": [
    "linear_dims = np.arange(4,16)\n",
    "print(\"Linear dimensions tested: \\n\", linear_dims)\n",
    "\n",
    "# keep them fixed\n",
    "n_samples = 1000\n",
    "M = 20"
   ]
  },
  {
   "cell_type": "code",
   "execution_count": 81,
   "metadata": {},
   "outputs": [
    {
     "name": "stdout",
     "output_type": "stream",
     "text": [
      "Testing with 4 x 4 images...\n",
      "Testing with 5 x 5 images...\n",
      "Testing with 6 x 6 images...\n",
      "Testing with 7 x 7 images...\n",
      "Testing with 8 x 8 images...\n",
      "Testing with 9 x 9 images...\n",
      "Testing with 10 x 10 images...\n",
      "Testing with 11 x 11 images...\n",
      "Testing with 12 x 12 images...\n",
      "Testing with 13 x 13 images...\n",
      "Testing with 14 x 14 images...\n",
      "Testing with 15 x 15 images...\n"
     ]
    }
   ],
   "source": [
    "magnitude_linear_dims = []\n",
    "for linear_dim in linear_dims:\n",
    "    print(\"Testing with %d x %d images...\"%(linear_dim,linear_dim))\n",
    "    (data, label) = gen.create_dataset(n_samples, sigma=0.7, linear_dim = linear_dim)\n",
    "    batch_size = {'train_batch_size':16, 'val_batch_size':128, 'test_batch_size':128}\n",
    "    train_loader, val_loader, test_loader = prepare_dataset(data, label, 0.8, 0.2, **batch_size)\n",
    "    \n",
    "    # independent from the number of samples\n",
    "    net = tn.Network(N=linear_dim**2, M=M, L=2)\n",
    "    \n",
    "    batch = next(iter(train_loader))\n",
    "    X = np.array([batch[i][0] for i in range(len(batch))])\n",
    "    f = net.forward(X)\n",
    "    f_max = np.abs(f.elem).max()\n",
    "    magnitude_linear_dims.append(f_max)"
   ]
  },
  {
   "cell_type": "code",
   "execution_count": 39,
   "metadata": {},
   "outputs": [],
   "source": [
    "from sklearn.linear_model import LinearRegression"
   ]
  },
  {
   "cell_type": "code",
   "execution_count": 82,
   "metadata": {},
   "outputs": [
    {
     "data": {
      "text/plain": [
       "[1.4551234878836874e+18,\n",
       " 1.5954236860815993e+28,\n",
       " 2.341730767267684e+40,\n",
       " 2.1231127392977553e+55,\n",
       " 7.706997101370749e+71,\n",
       " 8.421848735099642e+90,\n",
       " 1.0910929819827463e+112,\n",
       " 1.4223183003637318e+136,\n",
       " 4.445402669020557e+161,\n",
       " 1.0891392090865922e+189,\n",
       " 2.4658640147627255e+219,\n",
       " 4.623475572905961e+251]"
      ]
     },
     "execution_count": 82,
     "metadata": {},
     "output_type": "execute_result"
    }
   ],
   "source": [
    "magnitude_linear_dims"
   ]
  },
  {
   "cell_type": "code",
   "execution_count": 83,
   "metadata": {},
   "outputs": [
    {
     "data": {
      "image/png": "[encoded data removed]",
      "text/plain": [
       "<Figure size 576x432 with 1 Axes>"
      ]
     },
     "metadata": {
      "needs_background": "light"
     },
     "output_type": "display_data"
    }
   ],
   "source": [
    "Ns = linear_dims**2\n",
    "y = np.log10(magnitude_linear_dims)\n",
    "X = Ns.reshape(-1,1)\n",
    "reg = LinearRegression().fit(X, y)\n",
    "plt.figure(figsize=(8,6))\n",
    "plt.plot(Ns, y, label = 'data')\n",
    "plt.plot(Ns, reg.predict(X), label = 'slope = %.2f'%reg.coef_)\n",
    "plt.ylabel(r'$log_{10}(f_{max})$', fontsize = 16)\n",
    "plt.xlabel('Number of pixels N', fontsize = 16)\n",
    "plt.legend(fontsize=13)\n",
    "plt.show()"
   ]
  },
  {
   "cell_type": "markdown",
   "metadata": {},
   "source": [
    "As we can see the dependence on N is exponential, meaning that we can have an exponential suppression (or divergence) if the network is not accurately initialized."
   ]
  },
  {
   "cell_type": "markdown",
   "metadata": {},
   "source": [
    "### Isolating dependence C(N)"
   ]
  },
  {
   "cell_type": "code",
   "execution_count": 89,
   "metadata": {},
   "outputs": [
    {
     "data": {
      "image/png": "[encoded data removed]",
      "text/plain": [
       "<Figure size 576x432 with 1 Axes>"
      ]
     },
     "metadata": {
      "needs_background": "light"
     },
     "output_type": "display_data"
    }
   ],
   "source": [
    "y_scaled = y - Ns*np.log10(M)\n",
    "X = Ns.reshape(-1,1)\n",
    "reg_C = LinearRegression().fit(X, y_scaled)\n",
    "plt.figure(figsize=(8,6))\n",
    "plt.plot(Ns, y_scaled, label = 'data')\n",
    "plt.plot(Ns, reg_C.predict(X), label = 'slope = %.2f'%reg_C.coef_)\n",
    "plt.ylabel(r'$log_{10}(f_{max})$', fontsize = 16)\n",
    "plt.xlabel('Number of pixels N', fontsize = 16)\n",
    "plt.legend(fontsize=13)\n",
    "plt.show()"
   ]
  },
  {
   "cell_type": "code",
   "execution_count": 91,
   "metadata": {},
   "outputs": [
    {
     "data": {
      "text/plain": [
       "1.5135612484362082"
      ]
     },
     "execution_count": 91,
     "metadata": {},
     "output_type": "execute_result"
    }
   ],
   "source": [
    "1/(10**(-0.18))"
   ]
  },
  {
   "cell_type": "markdown",
   "metadata": {},
   "source": [
    "### Bond dimension M"
   ]
  },
  {
   "cell_type": "code",
   "execution_count": 72,
   "metadata": {},
   "outputs": [
    {
     "name": "stdout",
     "output_type": "stream",
     "text": [
      "Bond dimensions tested: \n",
      " [5, 10, 15, 20, 25, 30, 35, 40, 45, 50, 55, 60, 65, 70, 75, 80, 85, 90, 95, 100]\n"
     ]
    }
   ],
   "source": [
    "Ms = [5*i for i in range(1,21)]\n",
    "print(\"Bond dimensions tested: \\n\", Ms)\n",
    "\n",
    "# keep them fixed\n",
    "n_samples = 1000\n",
    "linear_dim = 5"
   ]
  },
  {
   "cell_type": "code",
   "execution_count": 73,
   "metadata": {
    "scrolled": true
   },
   "outputs": [
    {
     "name": "stdout",
     "output_type": "stream",
     "text": [
      "Testing with bond dimension 5...\n",
      "Testing with bond dimension 10...\n",
      "Testing with bond dimension 15...\n",
      "Testing with bond dimension 20...\n",
      "Testing with bond dimension 25...\n",
      "Testing with bond dimension 30...\n",
      "Testing with bond dimension 35...\n",
      "Testing with bond dimension 40...\n",
      "Testing with bond dimension 45...\n",
      "Testing with bond dimension 50...\n",
      "Testing with bond dimension 55...\n",
      "Testing with bond dimension 60...\n",
      "Testing with bond dimension 65...\n",
      "Testing with bond dimension 70...\n",
      "Testing with bond dimension 75...\n",
      "Testing with bond dimension 80...\n",
      "Testing with bond dimension 85...\n",
      "Testing with bond dimension 90...\n",
      "Testing with bond dimension 95...\n",
      "Testing with bond dimension 100...\n"
     ]
    }
   ],
   "source": [
    "magnitude_bond_dims = []\n",
    "for M in Ms:\n",
    "    print(\"Testing with bond dimension %d...\"%M)\n",
    "    (data, label) = gen.create_dataset(n_samples, sigma=0.7, linear_dim=linear_dim)\n",
    "    batch_size = {'train_batch_size':16, 'val_batch_size':128, 'test_batch_size':128}\n",
    "    train_loader, val_loader, test_loader = prepare_dataset(data, label, 0.8, 0.2, **batch_size)\n",
    "    \n",
    "    # independent from the number of samples\n",
    "    net = tn.Network(N=linear_dim**2, M=M, L=2)\n",
    "    \n",
    "    batch = next(iter(train_loader))\n",
    "    X = np.array([batch[i][0] for i in range(len(batch))])\n",
    "    f = net.forward(X)\n",
    "    f_max = np.abs(f.elem).max()\n",
    "    magnitude_bond_dims.append(f_max)"
   ]
  },
  {
   "cell_type": "code",
   "execution_count": 74,
   "metadata": {},
   "outputs": [
    {
     "data": {
      "image/png": "[encoded data removed]",
      "text/plain": [
       "<Figure size 576x432 with 1 Axes>"
      ]
     },
     "metadata": {
      "needs_background": "light"
     },
     "output_type": "display_data"
    }
   ],
   "source": [
    "y = np.log10(magnitude_bond_dims)\n",
    "X = np.log10(np.array(Ms)).reshape(-1,1)\n",
    "reg_M = LinearRegression().fit(X, y)\n",
    "plt.figure(figsize=(8,6))\n",
    "plt.plot(X, y, label = 'data')\n",
    "plt.plot(X, reg_M.predict(X), label = 'slope = %.3f'%reg_M.coef_)\n",
    "plt.ylabel(r'$log_{10}(f_{max})$', fontsize = 16)\n",
    "plt.xlabel(r'Bond dimension $log_{10}(M)$', fontsize = 16)\n",
    "plt.legend(fontsize=13)\n",
    "plt.show()"
   ]
  },
  {
   "cell_type": "code",
   "execution_count": 75,
   "metadata": {},
   "outputs": [
    {
     "name": "stdout",
     "output_type": "stream",
     "text": [
      "3.1418028060393706e-05\n"
     ]
    }
   ],
   "source": [
    "print(10**reg_M.intercept_)"
   ]
  },
  {
   "cell_type": "markdown",
   "metadata": {},
   "source": [
    "The output magnitude has a power law dependence on the bond dimension. Notice how the slope is equal to N.\n",
    "This makes sense since we already know that f is exponential in N. Now we also can approximate the scaling of the f as:\n",
    "$$f \\approx C(N)*M^N$$"
   ]
  },
  {
   "cell_type": "markdown",
   "metadata": {},
   "source": [
    "### Batch dimension B"
   ]
  },
  {
   "cell_type": "code",
   "execution_count": 45,
   "metadata": {},
   "outputs": [],
   "source": [
    "M = 20\n",
    "n_samples = 1000\n",
    "linear_dim = 5\n",
    "\n",
    "train_batch_sizes = np.array([2**i for i in range(1,10)])"
   ]
  },
  {
   "cell_type": "code",
   "execution_count": 46,
   "metadata": {},
   "outputs": [],
   "source": [
    "magnitude_batch_size = []\n",
    "for B in train_batch_sizes:\n",
    "    (data, label) = gen.create_dataset(n_samples, sigma=0.7, linear_dim = linear_dim)\n",
    "    batch_size = {'train_batch_size': int(B), 'val_batch_size':128, 'test_batch_size':128}\n",
    "    train_loader, val_loader, test_loader = prepare_dataset(data, label, 0.8, 0.2, **batch_size)\n",
    "    \n",
    "    # independent from the number of samples\n",
    "    net = tn.Network(N=linear_dim**2, M=M, L=2)\n",
    "    \n",
    "    batch = next(iter(train_loader))\n",
    "    X = np.array([batch[i][0] for i in range(len(batch))])\n",
    "    f = net.forward(X)\n",
    "    f_max = np.abs(f.elem).max()\n",
    "    magnitude_batch_size.append(f_max)"
   ]
  },
  {
   "cell_type": "code",
   "execution_count": 47,
   "metadata": {},
   "outputs": [
    {
     "data": {
      "image/png": "[encoded data removed]",
      "text/plain": [
       "<Figure size 576x432 with 1 Axes>"
      ]
     },
     "metadata": {
      "needs_background": "light"
     },
     "output_type": "display_data"
    }
   ],
   "source": [
    "plt.figure(figsize=(8,6))\n",
    "plt.plot(train_batch_sizes, magnitude_batch_size, label = 'data')\n",
    "plt.ylabel(r'$f_{max}$', fontsize = 16)\n",
    "plt.xlabel('Batch size B', fontsize = 16)\n",
    "plt.legend(fontsize=13)\n",
    "plt.show()"
   ]
  },
  {
   "cell_type": "markdown",
   "metadata": {},
   "source": [
    "No clear dependence emerges on the batch size."
   ]
  },
  {
   "cell_type": "markdown",
   "metadata": {},
   "source": [
    "### Conclusion on initialization\n",
    "\n",
    "The simplest and most reliable initialization is the one that takes into account the number of pixels given as input and disregards all the rest. However remains the problem of choosing the factor with which the weights should be divided. To find an exact factor a priori is not immediate and is also a risky procedure, hence it's better to devise an empirical method to do so.\n",
    "\n"
   ]
  },
  {
   "cell_type": "code",
   "execution_count": 180,
   "metadata": {},
   "outputs": [],
   "source": [
    "linear_dim = 5\n",
    "n_samples = 1000\n",
    "M = 10"
   ]
  },
  {
   "cell_type": "code",
   "execution_count": 181,
   "metadata": {},
   "outputs": [
    {
     "data": {
      "text/plain": [
       "<module 'TensorNetwork' from '/home/nicola/Nicola_unipd/QuintoAnno/Quantum Information/TensorNetworkForML/TensorNetwork/TensorNetwork.py'>"
      ]
     },
     "execution_count": 181,
     "metadata": {},
     "output_type": "execute_result"
    }
   ],
   "source": [
    "reload(tn)"
   ]
  },
  {
   "cell_type": "code",
   "execution_count": 182,
   "metadata": {
    "scrolled": true
   },
   "outputs": [
    {
     "name": "stdout",
     "output_type": "stream",
     "text": [
      "f_max:  7.507434773510061e+20\n",
      "f_max:  1.5437171228476673e+28\n",
      "f_max:  5.551181947055209e+32\n",
      "f_max:  7.236974553759592e+35\n",
      "f_max:  1.6241222002361267e+38\n",
      "f_max:  1.7678852010787924e+40\n",
      "f_max:  9.794258744717153e+41\n",
      "f_max:  1.3659012632968806e+43\n",
      "f_max:  3.2136563727874105e+44\n",
      "f_max:  7.688763989726357e+45\n",
      "f_max:  6.898674744968914e+46\n",
      "f_max:  6.906263911968347e+47\n",
      "f_max:  3.6877261059016915e+48\n",
      "f_max:  2.783268384091837e+49\n",
      "f_max:  1.7585207186567073e+50\n",
      "f_max:  7.111076014174207e+50\n",
      "f_max:  2.6385043554830724e+51\n",
      "f_max:  1.9025690587197457e+52\n",
      "f_max:  6.325542984536105e+52\n",
      "f_max:  2.113621761049667e+53\n"
     ]
    }
   ],
   "source": [
    "Cs = np.arange(1,21)\n",
    "(data, label) = gen.create_dataset(n_samples, sigma=0.7, linear_dim = linear_dim)\n",
    "batch_size = {'train_batch_size':16, 'val_batch_size':128, 'test_batch_size':128}\n",
    "train_loader, val_loader, test_loader = prepare_dataset(data, label, 0.8, 0.2, **batch_size)\n",
    "batch = next(iter(train_loader))\n",
    "X = np.array([batch[i][0] for i in range(len(batch))])\n",
    "\n",
    "magnitude_C = []\n",
    "for C in Cs:\n",
    "    \n",
    "    net = tn.Network(N=linear_dim**2, M=M, L=2, normalize=False)\n",
    "    \n",
    "    for i in range(net.N):\n",
    "        net.As[i].elem *= C\n",
    "    \n",
    "    f = net.forward(X)\n",
    "    f_max = np.abs(f.elem).max()\n",
    "    print('f_max: ', f_max)\n",
    "    magnitude_C.append(f_max)"
   ]
  },
  {
   "cell_type": "code",
   "execution_count": 183,
   "metadata": {},
   "outputs": [
    {
     "data": {
      "image/png": "[encoded data removed]",
      "text/plain": [
       "<Figure size 576x432 with 1 Axes>"
      ]
     },
     "metadata": {
      "needs_background": "light"
     },
     "output_type": "display_data"
    }
   ],
   "source": [
    "plt.figure(figsize=(8,6))\n",
    "X = np.log10(Cs).reshape(-1,1)\n",
    "y = np.log10(np.array(magnitude_C))\n",
    "y = y/y[0]\n",
    "reg_scale = LinearRegression().fit(X, y)\n",
    "plt.plot(X, y, label='data')\n",
    "plt.plot(X, reg_scale.predict(X), label = 'slope = %.2f\\nintercept = %.2f'%(reg_scale.coef_,reg_scale.intercept_))\n",
    "plt.ylabel(r'$log_{10}(f_{max})$', fontsize = 16)\n",
    "plt.xlabel(r'Scaling factor $log_{10}(C)$', fontsize = 16)\n",
    "plt.legend(fontsize=13)\n",
    "plt.show()"
   ]
  },
  {
   "cell_type": "code",
   "execution_count": 185,
   "metadata": {},
   "outputs": [],
   "source": [
    "Ms = np.array([5*i for i in range(1,21)])\n",
    "Cs = np.arange(1,21)\n",
    "(data, label) = gen.create_dataset(n_samples, sigma=0.7, linear_dim = linear_dim)\n",
    "batch_size = {'train_batch_size':16, 'val_batch_size':128, 'test_batch_size':128}\n",
    "train_loader, val_loader, test_loader = prepare_dataset(data, label, 0.8, 0.2, **batch_size)\n",
    "batch = next(iter(train_loader))\n",
    "X = np.array([batch[i][0] for i in range(len(batch))])\n",
    "\n",
    "magnitude_C_M = []\n",
    "for M in Ms:\n",
    "    magnitude_C = []\n",
    "    for C in Cs:\n",
    "\n",
    "        net = tn.Network(N=linear_dim**2, M=M, L=2, normalize=False)\n",
    "\n",
    "        for i in range(net.N):\n",
    "            net.As[i].elem *= C\n",
    "\n",
    "        f = net.forward(X)\n",
    "        f_max = np.abs(f.elem).max()\n",
    "        magnitude_C.append(f_max)\n",
    "        \n",
    "    magnitude_C = np.array(magnitude_C)\n",
    "    magnitude_C_M.append(magnitude_C)\n",
    "    \n",
    "magnitude_C_M = np.array(magnitude_C_M)"
   ]
  },
  {
   "cell_type": "code",
   "execution_count": 186,
   "metadata": {},
   "outputs": [
    {
     "data": {
      "text/plain": [
       "(20, 20)"
      ]
     },
     "execution_count": 186,
     "metadata": {},
     "output_type": "execute_result"
    }
   ],
   "source": [
    "magnitude_C_M.shape"
   ]
  },
  {
   "cell_type": "code",
   "execution_count": 187,
   "metadata": {},
   "outputs": [],
   "source": [
    "alphas = []\n",
    "for i,M in enumerate(Ms):\n",
    "    X = np.log10(Cs).reshape(-1,1)\n",
    "    y = np.log10(np.array(magnitude_C_M[i,:]))\n",
    "    y = y/y[0]\n",
    "    reg = LinearRegression().fit(X, y)\n",
    "    alphas.append(reg.coef_)\n",
    "alphas = np.array(alphas)"
   ]
  },
  {
   "cell_type": "code",
   "execution_count": 199,
   "metadata": {},
   "outputs": [
    {
     "data": {
      "image/png": "[encoded data removed]",
      "text/plain": [
       "<Figure size 576x432 with 1 Axes>"
      ]
     },
     "metadata": {
      "needs_background": "light"
     },
     "output_type": "display_data"
    }
   ],
   "source": [
    "plt.figure(figsize=(8,6))\n",
    "plt.plot(Ms, alphas)\n",
    "plt.xlabel('Bond dimension M', fontsize=16)\n",
    "plt.ylabel(r'$\\alpha$ coefficient', fontsize=16)\n",
    "plt.show()"
   ]
  },
  {
   "cell_type": "code",
   "execution_count": 233,
   "metadata": {},
   "outputs": [
    {
     "data": {
      "text/plain": [
       "<module 'TensorNetwork' from '/home/nicola/Nicola_unipd/QuintoAnno/Quantum Information/TensorNetworkForML/TensorNetwork/TensorNetwork.py'>"
      ]
     },
     "execution_count": 233,
     "metadata": {},
     "output_type": "execute_result"
    }
   ],
   "source": [
    "reload(tn)"
   ]
  },
  {
   "cell_type": "code",
   "execution_count": 227,
   "metadata": {},
   "outputs": [
    {
     "name": "stdout",
     "output_type": "stream",
     "text": [
      "Linear dimensions tested: \n",
      " [ 4  8 12 16 20 24 28]\n"
     ]
    }
   ],
   "source": [
    "linear_dims = np.arange(4,29,4)\n",
    "print(\"Linear dimensions tested: \\n\", linear_dims)\n",
    "\n",
    "# keep them fixed\n",
    "n_samples = 1000\n",
    "M = 20"
   ]
  },
  {
   "cell_type": "code",
   "execution_count": 228,
   "metadata": {},
   "outputs": [
    {
     "name": "stdout",
     "output_type": "stream",
     "text": [
      "Testing with 4 x 4 images...\n",
      "Normalizing weights...\n",
      "K 0.8052451659746271\n",
      "Scaling factor: 8.28\n",
      "f_max for random input of 16 samples :  176.00470488576988\n",
      "f_max for random input of 16 samples (after):  1.000000000000001\n",
      "Testing with 8 x 8 images...\n",
      "Normalizing weights...\n",
      "K 0.9269895625416927\n",
      "Scaling factor: 7.19\n",
      "f_max for random input of 16 samples :  1955561060.7934592\n",
      "f_max for random input of 16 samples (after):  0.9999999999999974\n",
      "Testing with 12 x 12 images...\n",
      "Normalizing weights...\n",
      "K 0.9614371194830902\n",
      "Scaling factor: 6.93\n",
      "f_max for random input of 16 samples :  3.574725214663069e+20\n",
      "f_max for random input of 16 samples (after):  0.9999999999999913\n",
      "Testing with 16 x 16 images...\n",
      "Normalizing weights...\n",
      "K 0.9759260581154892\n",
      "Scaling factor: 6.83\n",
      "f_max for random input of 16 samples :  4.1529657123946844e+39\n",
      "f_max for random input of 16 samples (after):  1.0000000000000138\n",
      "Testing with 20 x 20 images...\n",
      "Normalizing weights...\n",
      "K 0.9834273336732188\n",
      "Scaling factor: 6.78\n",
      "f_max for random input of 16 samples :  4.123175145204009e+58\n",
      "f_max for random input of 16 samples (after):  0.9999999999999868\n",
      "Testing with 24 x 24 images...\n",
      "Normalizing weights...\n",
      "K 0.9878362936444949\n",
      "Scaling factor: 6.75\n",
      "f_max for random input of 16 samples :  7.576043431796133e+75\n",
      "f_max for random input of 16 samples (after):  0.9999999999999746\n",
      "Testing with 28 x 28 images...\n",
      "Normalizing weights...\n",
      "K 0.9906592602734394\n",
      "Scaling factor: 6.73\n",
      "f_max for random input of 16 samples :  2.1310570825492107e+107\n",
      "f_max for random input of 16 samples (after):  1.0000000000000733\n"
     ]
    }
   ],
   "source": [
    "magnitude_linear_dims = []\n",
    "for linear_dim in linear_dims:\n",
    "    print(\"Testing with %d x %d images...\"%(linear_dim,linear_dim))\n",
    "    (data, label) = gen.create_dataset(n_samples, sigma=0.7, linear_dim = linear_dim)\n",
    "    batch_size = {'train_batch_size':16, 'val_batch_size':128, 'test_batch_size':128}\n",
    "    train_loader, val_loader, test_loader = prepare_dataset(data, label, 0.8, 0.2, **batch_size)\n",
    "    \n",
    "    # independent from the number of samples\n",
    "    net = tn.Network(N=linear_dim**2, M=M, L=2, normalize=True)\n",
    "    \n",
    "    batch = next(iter(train_loader))\n",
    "    X = np.array([batch[i][0] for i in range(len(batch))])\n",
    "    f = net.forward(X)\n",
    "    f_max = np.abs(f.elem).max()\n",
    "    magnitude_linear_dims.append(f_max)"
   ]
  },
  {
   "cell_type": "code",
   "execution_count": 225,
   "metadata": {},
   "outputs": [
    {
     "data": {
      "text/plain": [
       "0.6400077874061286"
      ]
     },
     "execution_count": 225,
     "metadata": {},
     "output_type": "execute_result"
    }
   ],
   "source": [
    "u = np.random.random(10000)\n",
    "x = np.cos(np.pi/2*u)\n",
    "x.mean()"
   ]
  },
  {
   "cell_type": "code",
   "execution_count": 53,
   "metadata": {},
   "outputs": [
    {
     "data": {
      "text/plain": [
       "[1.0620975310181947e+18,\n",
       " 8.427103912844499e+71,\n",
       " 4.843395114717482e+161,\n",
       " 2.9342476310677695e+286,\n",
       " inf,\n",
       " inf,\n",
       " inf]"
      ]
     },
     "execution_count": 53,
     "metadata": {},
     "output_type": "execute_result"
    }
   ],
   "source": [
    "magnitude_linear_dims"
   ]
  },
  {
   "cell_type": "code",
   "execution_count": null,
   "metadata": {},
   "outputs": [],
   "source": [
    "Ns = linear_dims**2\n",
    "y = np.log10(magnitude_linear_dims)\n",
    "X = Ns.reshape(-1,1)\n",
    "reg = LinearRegression().fit(X, y)\n",
    "plt.figure(figsize=(8,6))\n",
    "plt.plot(Ns, y, label = 'data')\n",
    "plt.plot(Ns, reg.predict(X), label = 'slope = %.2f'%reg.coef_)\n",
    "plt.ylabel(r'$log_{10}(f_{max})$', fontsize = 16)\n",
    "plt.xlabel('Number of pixels N', fontsize = 16)\n",
    "plt.legend(fontsize=13)\n",
    "plt.show()"
   ]
  },
  {
   "cell_type": "markdown",
   "metadata": {},
   "source": [
    "### Gradient clipping\n",
    "**Idea**: "
   ]
  },
  {
   "cell_type": "code",
   "execution_count": null,
   "metadata": {},
   "outputs": [],
   "source": []
  },
  {
   "cell_type": "markdown",
   "metadata": {},
   "source": [
    "# MNIST dataset"
   ]
  },
  {
   "cell_type": "code",
   "execution_count": 108,
   "metadata": {},
   "outputs": [],
   "source": [
    "MNIST_data = gen.get_MNIST_dataset(data_root_dir = './datasets', download=False)\n",
    "train_data, train_labels, test_data, test_labels = MNIST_data\n",
    "data = np.concatenate((train_data,test_data))\n",
    "labels = np.concatenate((train_labels,test_labels))\n",
    "batch_size = {'train_batch_size':16, 'val_batch_size':128, 'test_batch_size':128}\n",
    "train_loader, val_loader, test_loader = prepare_dataset(data, labels, 6/7, 0.2, **batch_size)"
   ]
  },
  {
   "cell_type": "code",
   "execution_count": 172,
   "metadata": {},
   "outputs": [
    {
     "data": {
      "text/plain": [
       "<module 'TensorNetwork' from '/home/nicola/Nicola_unipd/QuintoAnno/Quantum Information/TensorNetworkForML/TensorNetwork/TensorNetwork.py'>"
      ]
     },
     "execution_count": 172,
     "metadata": {},
     "output_type": "execute_result"
    }
   ],
   "source": [
    "reload(tn)"
   ]
  },
  {
   "cell_type": "code",
   "execution_count": 173,
   "metadata": {},
   "outputs": [
    {
     "name": "stdout",
     "output_type": "stream",
     "text": [
      "Normalizing weights...\n",
      "K 0.9906592602734394\n",
      "Scaling factor: 1.68\n",
      "f_max for random input of 16 samples :  1.6482741561078607e+102\n",
      "f_max for random input of 16 samples (after):  1.0000000000000133\n"
     ]
    }
   ],
   "source": [
    "net = tn.Network(N=784, M=5, L=10, normalize=True)#, sigma=0.23)"
   ]
  },
  {
   "cell_type": "code",
   "execution_count": 174,
   "metadata": {
    "scrolled": true
   },
   "outputs": [
    {
     "data": {
      "application/vnd.jupyter.widget-view+json": {
       "model_id": "8fb9b5b10b73406789868dff97f11e26",
       "version_major": 2,
       "version_minor": 0
      },
      "text/plain": [
       "HBox(children=(IntProgress(value=0, description='Epoch loop', max=1, style=ProgressStyle(description_width='in…"
      ]
     },
     "metadata": {},
     "output_type": "display_data"
    },
    {
     "name": "stdout",
     "output_type": "stream",
     "text": [
      "\n",
      "B.elem.sum():  222.97100663894082\n",
      "deltaB.elem.sum():  -5.058290809649901e+63\n",
      "B.elem.sum() (after update):  -5.058290809649902e+63\n",
      "\n",
      "SVD debug:  True\n",
      "T.elem.shape:  (10, 100)\n",
      "T.elem.sum():  -5.058290809649902e+63\n",
      "m:  5\n",
      "T_new.shape:  (10, 100)\n",
      "T_new.sum():  -5.058290809649903e+63\n",
      "U.shape (10, 5)\n",
      "U.sum -2.0050903688444435\n",
      "S.shape (5, 5)\n",
      "S.sum -3.3543788509341214e+62\n",
      "Vh.shape (5, 100)\n",
      "Vh.sum -14.262544287470757\n",
      "SVh.shape (5, 100)\n",
      "SVh.sum 2.276066777077014e+63\n",
      "\n",
      "B.elem.sum():  5.772006759155874e+63\n",
      "deltaB.elem.sum():  -1.537248238348008e+125\n",
      "B.elem.sum() (after update):  -1.537248238348008e+125\n",
      "\n",
      "SVD debug:  True\n",
      "T.elem.shape:  (10, 100)\n",
      "T.elem.sum():  -1.5372482383480083e+125\n",
      "m:  5\n",
      "T_new.shape:  (10, 100)\n",
      "T_new.sum():  -1.5372482383480083e+125\n",
      "U.shape (10, 5)\n",
      "U.sum -3.14493318506812\n",
      "S.shape (5, 5)\n",
      "S.sum -2.3852246040965747e+124\n",
      "Vh.shape (5, 100)\n",
      "Vh.sum -6.55626667169796\n",
      "SVh.shape (5, 100)\n",
      "SVh.sum 1.537248238348008e+125\n",
      "\n",
      "B.elem.sum():  3.244276426967673e+125\n",
      "deltaB.elem.sum():  -9.415434018659036e+186\n",
      "B.elem.sum() (after update):  -9.415434018659034e+186\n",
      "\n",
      "SVD debug:  True\n",
      "T.elem.shape:  (10, 100)\n",
      "T.elem.sum():  -9.415434018659034e+186\n",
      "m:  5\n",
      "T_new.shape:  (10, 100)\n",
      "T_new.sum():  -9.415434018659038e+186\n",
      "U.shape (10, 5)\n",
      "U.sum 0.1685475653554661\n",
      "S.shape (5, 5)\n",
      "S.sum -1.4008171209649267e+186\n",
      "Vh.shape (5, 100)\n",
      "Vh.sum -6.887057821324424\n",
      "SVh.shape (5, 100)\n",
      "SVh.sum 9.415434018659038e+186\n",
      "\n",
      "B.elem.sum():  2.1737616263964984e+187\n",
      "deltaB.elem.sum():  -4.875194244136409e+248\n",
      "B.elem.sum() (after update):  -4.875194244136409e+248\n",
      "\n",
      "SVD debug:  True\n",
      "T.elem.shape:  (10, 100)\n",
      "T.elem.sum():  -4.875194244136409e+248\n",
      "m:  5\n",
      "T_new.shape:  (10, 100)\n",
      "T_new.sum():  -4.875194244136411e+248\n",
      "U.shape (10, 5)\n",
      "U.sum -5.144443744713444\n",
      "S.shape (5, 5)\n",
      "S.sum -6.960782287437704e+247\n",
      "Vh.shape (5, 100)\n",
      "Vh.sum -4.264021587049343\n",
      "SVh.shape (5, 100)\n",
      "SVh.sum 4.875194244136409e+248\n",
      "\n",
      "B.elem.sum():  1.0233727041338054e+249\n",
      "deltaB.elem.sum():  -inf\n",
      "B.elem.sum() (after update):  -inf\n",
      "\n",
      "SVD debug:  True\n",
      "T.elem.shape:  (10, 100)\n",
      "T.elem.sum():  -inf\n",
      "m:  5\n",
      "T_new.shape:  (10, 100)\n",
      "T_new.sum():  nan\n",
      "U.shape (10, 5)\n",
      "U.sum -5.0\n",
      "S.shape (5, 5)\n",
      "S.sum nan\n",
      "Vh.shape (5, 100)\n",
      "Vh.sum nan\n",
      "SVh.shape (5, 100)\n",
      "SVh.sum nan\n",
      "\n",
      "B.elem.sum():  nan\n",
      "deltaB.elem.sum():  nan\n",
      "B.elem.sum() (after update):  nan\n",
      "\n",
      "SVD debug:  True\n",
      "T.elem.shape:  (10, 100)\n",
      "T.elem.sum():  nan\n"
     ]
    },
    {
     "name": "stderr",
     "output_type": "stream",
     "text": [
      "/home/nicola/anaconda3/envs/torch/lib/python3.7/site-packages/numpy/core/_methods.py:38: RuntimeWarning: overflow encountered in reduce\n",
      "  return umr_sum(a, axis, dtype, out, keepdims, initial, where)\n",
      "/home/nicola/Nicola_unipd/QuintoAnno/Quantum Information/TensorNetworkForML/TensorNetwork/TensorNetwork.py:515: RuntimeWarning: invalid value encountered in greater\n",
      "  index = np.argmax(cumulative_variance_explained>threshold)\n"
     ]
    },
    {
     "ename": "LinAlgError",
     "evalue": "SVD did not converge",
     "output_type": "error",
     "traceback": [
      "\u001b[0;31m---------------------------------------------------------------------------\u001b[0m",
      "\u001b[0;31mLinAlgError\u001b[0m                               Traceback (most recent call last)",
      "\u001b[0;32m<ipython-input-174-5d569d440e1a>\u001b[0m in \u001b[0;36m<module>\u001b[0;34m\u001b[0m\n\u001b[0;32m----> 1\u001b[0;31m \u001b[0mtrain_acc\u001b[0m\u001b[0;34m,\u001b[0m \u001b[0mval_acc\u001b[0m \u001b[0;34m=\u001b[0m \u001b[0mnet\u001b[0m\u001b[0;34m.\u001b[0m\u001b[0mtrain\u001b[0m\u001b[0;34m(\u001b[0m\u001b[0mtrain_loader\u001b[0m\u001b[0;34m,\u001b[0m \u001b[0mval_loader\u001b[0m\u001b[0;34m,\u001b[0m \u001b[0mlr\u001b[0m \u001b[0;34m=\u001b[0m \u001b[0;36m0.5\u001b[0m\u001b[0;34m,\u001b[0m \u001b[0mn_epochs\u001b[0m \u001b[0;34m=\u001b[0m \u001b[0;36m1\u001b[0m\u001b[0;34m,\u001b[0m \u001b[0mprint_freq\u001b[0m\u001b[0;34m=\u001b[0m\u001b[0;36m1000\u001b[0m\u001b[0;34m)\u001b[0m\u001b[0;34m\u001b[0m\u001b[0;34m\u001b[0m\u001b[0m\n\u001b[0m",
      "\u001b[0;32m~/Nicola_unipd/QuintoAnno/Quantum Information/TensorNetworkForML/TensorNetwork/TensorNetwork.py\u001b[0m in \u001b[0;36mtrain\u001b[0;34m(self, train_loader, val_loader, lr, n_epochs, early_stopping, print_freq)\u001b[0m\n\u001b[1;32m    746\u001b[0m                 \u001b[0mx\u001b[0m \u001b[0;34m=\u001b[0m \u001b[0mnp\u001b[0m\u001b[0;34m.\u001b[0m\u001b[0marray\u001b[0m\u001b[0;34m(\u001b[0m\u001b[0;34m[\u001b[0m\u001b[0mdata\u001b[0m\u001b[0;34m[\u001b[0m\u001b[0mi\u001b[0m\u001b[0;34m]\u001b[0m\u001b[0;34m[\u001b[0m\u001b[0;36m0\u001b[0m\u001b[0;34m]\u001b[0m \u001b[0;32mfor\u001b[0m \u001b[0mi\u001b[0m \u001b[0;32min\u001b[0m \u001b[0mrange\u001b[0m\u001b[0;34m(\u001b[0m\u001b[0mlen\u001b[0m\u001b[0;34m(\u001b[0m\u001b[0mdata\u001b[0m\u001b[0;34m)\u001b[0m\u001b[0;34m)\u001b[0m\u001b[0;34m]\u001b[0m\u001b[0;34m)\u001b[0m\u001b[0;34m\u001b[0m\u001b[0;34m\u001b[0m\u001b[0m\n\u001b[1;32m    747\u001b[0m                 \u001b[0my\u001b[0m \u001b[0;34m=\u001b[0m \u001b[0mnp\u001b[0m\u001b[0;34m.\u001b[0m\u001b[0marray\u001b[0m\u001b[0;34m(\u001b[0m\u001b[0;34m[\u001b[0m\u001b[0mdata\u001b[0m\u001b[0;34m[\u001b[0m\u001b[0mi\u001b[0m\u001b[0;34m]\u001b[0m\u001b[0;34m[\u001b[0m\u001b[0;36m1\u001b[0m\u001b[0;34m]\u001b[0m \u001b[0;32mfor\u001b[0m \u001b[0mi\u001b[0m \u001b[0;32min\u001b[0m \u001b[0mrange\u001b[0m\u001b[0;34m(\u001b[0m\u001b[0mlen\u001b[0m\u001b[0;34m(\u001b[0m\u001b[0mdata\u001b[0m\u001b[0;34m)\u001b[0m\u001b[0;34m)\u001b[0m\u001b[0;34m]\u001b[0m\u001b[0;34m)\u001b[0m\u001b[0;34m\u001b[0m\u001b[0;34m\u001b[0m\u001b[0m\n\u001b[0;32m--> 748\u001b[0;31m                 \u001b[0mf\u001b[0m \u001b[0;34m=\u001b[0m \u001b[0mself\u001b[0m\u001b[0;34m.\u001b[0m\u001b[0msweep\u001b[0m\u001b[0;34m(\u001b[0m\u001b[0mx\u001b[0m\u001b[0;34m,\u001b[0m \u001b[0my\u001b[0m\u001b[0;34m,\u001b[0m \u001b[0mlr\u001b[0m\u001b[0;34m)\u001b[0m\u001b[0;34m\u001b[0m\u001b[0;34m\u001b[0m\u001b[0m\n\u001b[0m\u001b[1;32m    749\u001b[0m                 \u001b[0mbatch_acc\u001b[0m \u001b[0;34m=\u001b[0m \u001b[0mself\u001b[0m\u001b[0;34m.\u001b[0m\u001b[0maccuracy\u001b[0m\u001b[0;34m(\u001b[0m\u001b[0mx\u001b[0m\u001b[0;34m,\u001b[0m \u001b[0my\u001b[0m\u001b[0;34m,\u001b[0m \u001b[0mf\u001b[0m\u001b[0;34m)\u001b[0m\u001b[0;34m\u001b[0m\u001b[0;34m\u001b[0m\u001b[0m\n\u001b[1;32m    750\u001b[0m                 \u001b[0mepoch_train_acc\u001b[0m\u001b[0;34m[\u001b[0m\u001b[0mi\u001b[0m\u001b[0;34m]\u001b[0m \u001b[0;34m=\u001b[0m \u001b[0mbatch_acc\u001b[0m\u001b[0;34m\u001b[0m\u001b[0;34m\u001b[0m\u001b[0m\n",
      "\u001b[0;32m~/Nicola_unipd/QuintoAnno/Quantum Information/TensorNetworkForML/TensorNetwork/TensorNetwork.py\u001b[0m in \u001b[0;36msweep\u001b[0;34m(self, X, y, lr)\u001b[0m\n\u001b[1;32m    830\u001b[0m         \u001b[0;32mfor\u001b[0m \u001b[0mi\u001b[0m \u001b[0;32min\u001b[0m \u001b[0mrange\u001b[0m\u001b[0;34m(\u001b[0m\u001b[0mself\u001b[0m\u001b[0;34m.\u001b[0m\u001b[0mN\u001b[0m\u001b[0;34m-\u001b[0m\u001b[0;36m1\u001b[0m\u001b[0;34m)\u001b[0m\u001b[0;34m:\u001b[0m\u001b[0;34m\u001b[0m\u001b[0;34m\u001b[0m\u001b[0m\n\u001b[1;32m    831\u001b[0m             \u001b[0;31m#print(\"\\nsweep step \",i)\u001b[0m\u001b[0;34m\u001b[0m\u001b[0;34m\u001b[0m\u001b[0;34m\u001b[0m\u001b[0m\n\u001b[0;32m--> 832\u001b[0;31m             \u001b[0mf\u001b[0m \u001b[0;34m=\u001b[0m \u001b[0mself\u001b[0m\u001b[0;34m.\u001b[0m\u001b[0msweep_step\u001b[0m\u001b[0;34m(\u001b[0m\u001b[0mf\u001b[0m\u001b[0;34m,\u001b[0m \u001b[0my\u001b[0m\u001b[0;34m,\u001b[0m \u001b[0mlr\u001b[0m\u001b[0;34m,\u001b[0m \u001b[0mbatch_size\u001b[0m\u001b[0;34m)\u001b[0m\u001b[0;34m\u001b[0m\u001b[0;34m\u001b[0m\u001b[0m\n\u001b[0m\u001b[1;32m    833\u001b[0m \u001b[0;34m\u001b[0m\u001b[0m\n\u001b[1;32m    834\u001b[0m         \u001b[0;31m# svd\u001b[0m\u001b[0;34m\u001b[0m\u001b[0;34m\u001b[0m\u001b[0;34m\u001b[0m\u001b[0m\n",
      "\u001b[0;32m~/Nicola_unipd/QuintoAnno/Quantum Information/TensorNetworkForML/TensorNetwork/TensorNetwork.py\u001b[0m in \u001b[0;36msweep_step\u001b[0;34m(self, f, y, lr, batch_size)\u001b[0m\n\u001b[1;32m    951\u001b[0m         \u001b[0mB\u001b[0m\u001b[0;34m.\u001b[0m\u001b[0maggregate\u001b[0m\u001b[0;34m(\u001b[0m\u001b[0maxes_names\u001b[0m\u001b[0;34m=\u001b[0m\u001b[0;34m[\u001b[0m\u001b[0;34m'd'\u001b[0m\u001b[0;34m+\u001b[0m\u001b[0mstr\u001b[0m\u001b[0;34m(\u001b[0m\u001b[0ml\u001b[0m\u001b[0;34m+\u001b[0m\u001b[0;36m1\u001b[0m\u001b[0;34m)\u001b[0m\u001b[0;34m,\u001b[0m\u001b[0;34m'right'\u001b[0m\u001b[0;34m,\u001b[0m\u001b[0;34m'l'\u001b[0m\u001b[0;34m]\u001b[0m\u001b[0;34m,\u001b[0m \u001b[0mnew_ax_name\u001b[0m\u001b[0;34m=\u001b[0m\u001b[0;34m'j'\u001b[0m\u001b[0;34m)\u001b[0m\u001b[0;34m\u001b[0m\u001b[0;34m\u001b[0m\u001b[0m\n\u001b[1;32m    952\u001b[0m         \u001b[0mB\u001b[0m\u001b[0;34m.\u001b[0m\u001b[0mtranspose\u001b[0m\u001b[0;34m(\u001b[0m\u001b[0;34m[\u001b[0m\u001b[0;34m'i'\u001b[0m\u001b[0;34m,\u001b[0m\u001b[0;34m'j'\u001b[0m\u001b[0;34m]\u001b[0m\u001b[0;34m)\u001b[0m\u001b[0;34m\u001b[0m\u001b[0;34m\u001b[0m\u001b[0m\n\u001b[0;32m--> 953\u001b[0;31m         \u001b[0mself\u001b[0m\u001b[0;34m.\u001b[0m\u001b[0mAs\u001b[0m\u001b[0;34m[\u001b[0m\u001b[0ml\u001b[0m\u001b[0;34m]\u001b[0m\u001b[0;34m,\u001b[0m \u001b[0mself\u001b[0m\u001b[0;34m.\u001b[0m\u001b[0mAs\u001b[0m\u001b[0;34m[\u001b[0m\u001b[0ml\u001b[0m\u001b[0;34m+\u001b[0m\u001b[0;36m1\u001b[0m\u001b[0;34m]\u001b[0m \u001b[0;34m=\u001b[0m \u001b[0mtensor_svd\u001b[0m\u001b[0;34m(\u001b[0m\u001b[0mB\u001b[0m\u001b[0;34m)\u001b[0m\u001b[0;34m\u001b[0m\u001b[0;34m\u001b[0m\u001b[0m\n\u001b[0m\u001b[1;32m    954\u001b[0m \u001b[0;34m\u001b[0m\u001b[0m\n\u001b[1;32m    955\u001b[0m         \u001b[0;31m# update position of l\u001b[0m\u001b[0;34m\u001b[0m\u001b[0;34m\u001b[0m\u001b[0;34m\u001b[0m\u001b[0m\n",
      "\u001b[0;32m~/Nicola_unipd/QuintoAnno/Quantum Information/TensorNetworkForML/TensorNetwork/TensorNetwork.py\u001b[0m in \u001b[0;36mtensor_svd\u001b[0;34m(T, threshold)\u001b[0m\n\u001b[1;32m    508\u001b[0m         \u001b[0mprint\u001b[0m\u001b[0;34m(\u001b[0m\u001b[0;34m'T.elem.sum(): '\u001b[0m\u001b[0;34m,\u001b[0m \u001b[0mT\u001b[0m\u001b[0;34m.\u001b[0m\u001b[0melem\u001b[0m\u001b[0;34m.\u001b[0m\u001b[0msum\u001b[0m\u001b[0;34m(\u001b[0m\u001b[0;34m)\u001b[0m\u001b[0;34m)\u001b[0m\u001b[0;34m\u001b[0m\u001b[0;34m\u001b[0m\u001b[0m\n\u001b[1;32m    509\u001b[0m     \u001b[0;31m# perform SVD of T elements\u001b[0m\u001b[0;34m\u001b[0m\u001b[0;34m\u001b[0m\u001b[0;34m\u001b[0m\u001b[0m\n\u001b[0;32m--> 510\u001b[0;31m     \u001b[0mU\u001b[0m\u001b[0;34m,\u001b[0m \u001b[0mS\u001b[0m\u001b[0;34m,\u001b[0m \u001b[0mVh\u001b[0m \u001b[0;34m=\u001b[0m \u001b[0mnp\u001b[0m\u001b[0;34m.\u001b[0m\u001b[0mlinalg\u001b[0m\u001b[0;34m.\u001b[0m\u001b[0msvd\u001b[0m\u001b[0;34m(\u001b[0m\u001b[0mcopy\u001b[0m\u001b[0;34m.\u001b[0m\u001b[0mdeepcopy\u001b[0m\u001b[0;34m(\u001b[0m\u001b[0mT\u001b[0m\u001b[0;34m.\u001b[0m\u001b[0melem\u001b[0m\u001b[0;34m)\u001b[0m\u001b[0;34m)\u001b[0m\u001b[0;34m\u001b[0m\u001b[0;34m\u001b[0m\u001b[0m\n\u001b[0m\u001b[1;32m    511\u001b[0m \u001b[0;34m\u001b[0m\u001b[0m\n\u001b[1;32m    512\u001b[0m     \u001b[0;31m# compute adaptive bond dimension\u001b[0m\u001b[0;34m\u001b[0m\u001b[0;34m\u001b[0m\u001b[0;34m\u001b[0m\u001b[0m\n",
      "\u001b[0;32m<__array_function__ internals>\u001b[0m in \u001b[0;36msvd\u001b[0;34m(*args, **kwargs)\u001b[0m\n",
      "\u001b[0;32m~/anaconda3/envs/torch/lib/python3.7/site-packages/numpy/linalg/linalg.py\u001b[0m in \u001b[0;36msvd\u001b[0;34m(a, full_matrices, compute_uv, hermitian)\u001b[0m\n\u001b[1;32m   1624\u001b[0m \u001b[0;34m\u001b[0m\u001b[0m\n\u001b[1;32m   1625\u001b[0m         \u001b[0msignature\u001b[0m \u001b[0;34m=\u001b[0m \u001b[0;34m'D->DdD'\u001b[0m \u001b[0;32mif\u001b[0m \u001b[0misComplexType\u001b[0m\u001b[0;34m(\u001b[0m\u001b[0mt\u001b[0m\u001b[0;34m)\u001b[0m \u001b[0;32melse\u001b[0m \u001b[0;34m'd->ddd'\u001b[0m\u001b[0;34m\u001b[0m\u001b[0;34m\u001b[0m\u001b[0m\n\u001b[0;32m-> 1626\u001b[0;31m         \u001b[0mu\u001b[0m\u001b[0;34m,\u001b[0m \u001b[0ms\u001b[0m\u001b[0;34m,\u001b[0m \u001b[0mvh\u001b[0m \u001b[0;34m=\u001b[0m \u001b[0mgufunc\u001b[0m\u001b[0;34m(\u001b[0m\u001b[0ma\u001b[0m\u001b[0;34m,\u001b[0m \u001b[0msignature\u001b[0m\u001b[0;34m=\u001b[0m\u001b[0msignature\u001b[0m\u001b[0;34m,\u001b[0m \u001b[0mextobj\u001b[0m\u001b[0;34m=\u001b[0m\u001b[0mextobj\u001b[0m\u001b[0;34m)\u001b[0m\u001b[0;34m\u001b[0m\u001b[0;34m\u001b[0m\u001b[0m\n\u001b[0m\u001b[1;32m   1627\u001b[0m         \u001b[0mu\u001b[0m \u001b[0;34m=\u001b[0m \u001b[0mu\u001b[0m\u001b[0;34m.\u001b[0m\u001b[0mastype\u001b[0m\u001b[0;34m(\u001b[0m\u001b[0mresult_t\u001b[0m\u001b[0;34m,\u001b[0m \u001b[0mcopy\u001b[0m\u001b[0;34m=\u001b[0m\u001b[0;32mFalse\u001b[0m\u001b[0;34m)\u001b[0m\u001b[0;34m\u001b[0m\u001b[0;34m\u001b[0m\u001b[0m\n\u001b[1;32m   1628\u001b[0m         \u001b[0ms\u001b[0m \u001b[0;34m=\u001b[0m \u001b[0ms\u001b[0m\u001b[0;34m.\u001b[0m\u001b[0mastype\u001b[0m\u001b[0;34m(\u001b[0m\u001b[0m_realType\u001b[0m\u001b[0;34m(\u001b[0m\u001b[0mresult_t\u001b[0m\u001b[0;34m)\u001b[0m\u001b[0;34m,\u001b[0m \u001b[0mcopy\u001b[0m\u001b[0;34m=\u001b[0m\u001b[0;32mFalse\u001b[0m\u001b[0;34m)\u001b[0m\u001b[0;34m\u001b[0m\u001b[0;34m\u001b[0m\u001b[0m\n",
      "\u001b[0;32m~/anaconda3/envs/torch/lib/python3.7/site-packages/numpy/linalg/linalg.py\u001b[0m in \u001b[0;36m_raise_linalgerror_svd_nonconvergence\u001b[0;34m(err, flag)\u001b[0m\n\u001b[1;32m    104\u001b[0m \u001b[0;34m\u001b[0m\u001b[0m\n\u001b[1;32m    105\u001b[0m \u001b[0;32mdef\u001b[0m \u001b[0m_raise_linalgerror_svd_nonconvergence\u001b[0m\u001b[0;34m(\u001b[0m\u001b[0merr\u001b[0m\u001b[0;34m,\u001b[0m \u001b[0mflag\u001b[0m\u001b[0;34m)\u001b[0m\u001b[0;34m:\u001b[0m\u001b[0;34m\u001b[0m\u001b[0;34m\u001b[0m\u001b[0m\n\u001b[0;32m--> 106\u001b[0;31m     \u001b[0;32mraise\u001b[0m \u001b[0mLinAlgError\u001b[0m\u001b[0;34m(\u001b[0m\u001b[0;34m\"SVD did not converge\"\u001b[0m\u001b[0;34m)\u001b[0m\u001b[0;34m\u001b[0m\u001b[0;34m\u001b[0m\u001b[0m\n\u001b[0m\u001b[1;32m    107\u001b[0m \u001b[0;34m\u001b[0m\u001b[0m\n\u001b[1;32m    108\u001b[0m \u001b[0;32mdef\u001b[0m \u001b[0m_raise_linalgerror_lstsq\u001b[0m\u001b[0;34m(\u001b[0m\u001b[0merr\u001b[0m\u001b[0;34m,\u001b[0m \u001b[0mflag\u001b[0m\u001b[0;34m)\u001b[0m\u001b[0;34m:\u001b[0m\u001b[0;34m\u001b[0m\u001b[0;34m\u001b[0m\u001b[0m\n",
      "\u001b[0;31mLinAlgError\u001b[0m: SVD did not converge"
     ]
    }
   ],
   "source": [
    "train_acc, val_acc = net.train(train_loader, val_loader, lr = 0.5, n_epochs = 1, print_freq=1000)"
   ]
  },
  {
   "cell_type": "code",
   "execution_count": null,
   "metadata": {},
   "outputs": [],
   "source": []
  }
 ],
 "metadata": {
  "kernelspec": {
   "display_name": "torch",
   "language": "python",
   "name": "torch"
  },
  "language_info": {
   "codemirror_mode": {
    "name": "ipython",
    "version": 3
   },
   "file_extension": ".py",
   "mimetype": "text/x-python",
   "name": "python",
   "nbconvert_exporter": "python",
   "pygments_lexer": "ipython3",
   "version": "3.7.6"
  }
 },
 "nbformat": 4,
 "nbformat_minor": 2
}
